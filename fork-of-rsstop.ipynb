{
 "cells": [
  {
   "cell_type": "code",
   "execution_count": 1,
   "metadata": {
    "_cell_guid": "b1076dfc-b9ad-4769-8c92-a6c4dae69d19",
    "_uuid": "8f2839f25d086af736a60e9eeb907d3b93b6e0e5",
    "execution": {
     "iopub.execute_input": "2021-03-28T18:36:54.274253Z",
     "iopub.status.busy": "2021-03-28T18:36:54.273477Z",
     "iopub.status.idle": "2021-03-28T18:36:54.283688Z",
     "shell.execute_reply": "2021-03-28T18:36:54.284288Z"
    },
    "papermill": {
     "duration": 0.057632,
     "end_time": "2021-03-28T18:36:54.284623",
     "exception": false,
     "start_time": "2021-03-28T18:36:54.226991",
     "status": "completed"
    },
    "tags": []
   },
   "outputs": [
    {
     "name": "stdout",
     "output_type": "stream",
     "text": [
      "/kaggle/input/rss-top-performers-prediction/task.csv\n",
      "/kaggle/input/rss-top-performers-prediction/course.csv\n",
      "/kaggle/input/rss-top-performers-prediction/sampleSubmission.csv\n",
      "/kaggle/input/rss-top-performers-prediction/train.csv\n",
      "/kaggle/input/rss-top-performers-prediction/test.csv\n",
      "/kaggle/input/rss-top-performers-prediction/task_results.csv\n"
     ]
    }
   ],
   "source": [
    "# This Python 3 environment comes with many helpful analytics libraries installed\n",
    "# It is defined by the kaggle/python Docker image: https://github.com/kaggle/docker-python\n",
    "# For example, here's several helpful packages to load\n",
    "\n",
    "import numpy as np # linear algebra\n",
    "import pandas as pd # data processing, CSV file I/O (e.g. pd.read_csv)\n",
    "\n",
    "# Input data files are available in the read-only \"../input/\" directory\n",
    "# For example, running this (by clicking run or pressing Shift+Enter) will list all files under the input directory\n",
    "\n",
    "import os\n",
    "for dirname, _, filenames in os.walk('/kaggle/input'):\n",
    "    for filename in filenames:\n",
    "        print(os.path.join(dirname, filename))\n",
    "\n",
    "# You can write up to 20GB to the current directory (/kaggle/working/) that gets preserved as output when you create a version using \"Save & Run All\" \n",
    "# You can also write temporary files to /kaggle/temp/, but they won't be saved outside of the current session"
   ]
  },
  {
   "cell_type": "code",
   "execution_count": 2,
   "metadata": {
    "execution": {
     "iopub.execute_input": "2021-03-28T18:36:54.378621Z",
     "iopub.status.busy": "2021-03-28T18:36:54.377721Z",
     "iopub.status.idle": "2021-03-28T18:36:55.516056Z",
     "shell.execute_reply": "2021-03-28T18:36:55.514335Z"
    },
    "papermill": {
     "duration": 1.185963,
     "end_time": "2021-03-28T18:36:55.516275",
     "exception": false,
     "start_time": "2021-03-28T18:36:54.330312",
     "status": "completed"
    },
    "tags": []
   },
   "outputs": [],
   "source": [
    "import os\n",
    "import numpy as np\n",
    "import pandas as pd\n",
    "import seaborn as sns\n",
    "import matplotlib.pyplot as plt\n",
    "\n",
    "import time\n",
    "from tqdm import tqdm"
   ]
  },
  {
   "cell_type": "code",
   "execution_count": 3,
   "metadata": {
    "execution": {
     "iopub.execute_input": "2021-03-28T18:36:55.607394Z",
     "iopub.status.busy": "2021-03-28T18:36:55.606473Z",
     "iopub.status.idle": "2021-03-28T18:36:56.939949Z",
     "shell.execute_reply": "2021-03-28T18:36:56.940506Z"
    },
    "papermill": {
     "duration": 1.384687,
     "end_time": "2021-03-28T18:36:56.940723",
     "exception": false,
     "start_time": "2021-03-28T18:36:55.556036",
     "status": "completed"
    },
    "tags": []
   },
   "outputs": [],
   "source": [
    "from sklearn.pipeline import Pipeline\n",
    "from sklearn.compose import ColumnTransformer\n",
    "from sklearn.model_selection import train_test_split, cross_validate\n",
    "from sklearn.metrics import plot_confusion_matrix, accuracy_score, f1_score, roc_curve, roc_auc_score\n",
    "from sklearn.linear_model import SGDClassifier, ElasticNetCV, LogisticRegression, RidgeClassifier, SGDRegressor\n",
    "from sklearn.preprocessing import StandardScaler, MinMaxScaler, OneHotEncoder, OrdinalEncoder\n",
    "from sklearn.model_selection import cross_val_score, KFold\n",
    "from sklearn.feature_selection import VarianceThreshold, SelectFromModel, RFECV\n",
    "from catboost import CatBoostClassifier, CatBoostRegressor\n",
    "from xgboost import XGBRFClassifier, XGBRegressor, XGBRFRegressor\n",
    "from sklearn.neighbors import KNeighborsClassifier\n",
    "\n",
    "\n",
    "from sklearn.impute import SimpleImputer\n",
    "from sklearn.preprocessing import OneHotEncoder\n",
    "from sklearn.ensemble import RandomForestRegressor, RandomForestClassifier\n",
    "from sklearn.metrics import mean_absolute_error\n",
    "from sklearn.model_selection import GridSearchCV, RandomizedSearchCV"
   ]
  },
  {
   "cell_type": "code",
   "execution_count": 4,
   "metadata": {
    "execution": {
     "iopub.execute_input": "2021-03-28T18:36:57.029137Z",
     "iopub.status.busy": "2021-03-28T18:36:57.028298Z",
     "iopub.status.idle": "2021-03-28T18:37:00.738210Z",
     "shell.execute_reply": "2021-03-28T18:37:00.738754Z"
    },
    "papermill": {
     "duration": 3.75891,
     "end_time": "2021-03-28T18:37:00.738944",
     "exception": false,
     "start_time": "2021-03-28T18:36:56.980034",
     "status": "completed"
    },
    "tags": []
   },
   "outputs": [],
   "source": [
    "train_data = pd.read_csv('/kaggle/input/rss-top-performers-prediction/train.csv', parse_dates=True)\n",
    "test_data = pd.read_csv('/kaggle/input/rss-top-performers-prediction/test.csv', parse_dates=True)\n",
    "sample = pd.read_csv('/kaggle/input/rss-top-performers-prediction/sampleSubmission.csv')\n",
    "task_result = pd.read_csv('/kaggle/input/rss-top-performers-prediction/task_results.csv', parse_dates=True)\n",
    "course_data = pd.read_csv('/kaggle/input/rss-top-performers-prediction/course.csv', parse_dates=True)\n",
    "task_data = pd.read_csv('/kaggle/input/rss-top-performers-prediction/task.csv', parse_dates=True)"
   ]
  },
  {
   "cell_type": "code",
   "execution_count": 5,
   "metadata": {
    "execution": {
     "iopub.execute_input": "2021-03-28T18:37:00.822012Z",
     "iopub.status.busy": "2021-03-28T18:37:00.821005Z",
     "iopub.status.idle": "2021-03-28T18:37:00.879778Z",
     "shell.execute_reply": "2021-03-28T18:37:00.879008Z"
    },
    "papermill": {
     "duration": 0.101438,
     "end_time": "2021-03-28T18:37:00.879936",
     "exception": false,
     "start_time": "2021-03-28T18:37:00.778498",
     "status": "completed"
    },
    "tags": []
   },
   "outputs": [
    {
     "data": {
      "text/html": [
       "<div>\n",
       "<style scoped>\n",
       "    .dataframe tbody tr th:only-of-type {\n",
       "        vertical-align: middle;\n",
       "    }\n",
       "\n",
       "    .dataframe tbody tr th {\n",
       "        vertical-align: top;\n",
       "    }\n",
       "\n",
       "    .dataframe thead th {\n",
       "        text-align: right;\n",
       "    }\n",
       "</style>\n",
       "<table border=\"1\" class=\"dataframe\">\n",
       "  <thead>\n",
       "    <tr style=\"text-align: right;\">\n",
       "      <th></th>\n",
       "      <th>studentId</th>\n",
       "      <th>createdDate</th>\n",
       "      <th>updatedDate</th>\n",
       "      <th>isExpelled</th>\n",
       "      <th>expellingReason</th>\n",
       "      <th>courseCompleted</th>\n",
       "      <th>isTopPerformer</th>\n",
       "      <th>preferedMentorGithubId</th>\n",
       "      <th>readyFullTime</th>\n",
       "      <th>courseId</th>\n",
       "      <th>...</th>\n",
       "      <th>hiredById</th>\n",
       "      <th>hiredByName</th>\n",
       "      <th>isFailed</th>\n",
       "      <th>startDate</th>\n",
       "      <th>endDate</th>\n",
       "      <th>repository</th>\n",
       "      <th>repositoryLastActivityDate</th>\n",
       "      <th>idUser</th>\n",
       "      <th>educationHistory</th>\n",
       "      <th>englishLevel</th>\n",
       "    </tr>\n",
       "  </thead>\n",
       "  <tbody>\n",
       "    <tr>\n",
       "      <th>0</th>\n",
       "      <td>5740</td>\n",
       "      <td>2019-09-06 17:30:17.681556</td>\n",
       "      <td>2019-12-03 16:24:58.705742</td>\n",
       "      <td>t</td>\n",
       "      <td>No activity in private repository</td>\n",
       "      <td>f</td>\n",
       "      <td>True</td>\n",
       "      <td>NaN</td>\n",
       "      <td>NaN</td>\n",
       "      <td>11</td>\n",
       "      <td>...</td>\n",
       "      <td>NaN</td>\n",
       "      <td>NaN</td>\n",
       "      <td>f</td>\n",
       "      <td>2019-09-09 07:35:20.981+00</td>\n",
       "      <td>2019-12-04 09:17:02.998689+00</td>\n",
       "      <td>https://github.com/rolling-scopes-school/1b3f6...</td>\n",
       "      <td>NaN</td>\n",
       "      <td>4467</td>\n",
       "      <td>[]</td>\n",
       "      <td>NaN</td>\n",
       "    </tr>\n",
       "    <tr>\n",
       "      <th>1</th>\n",
       "      <td>6956</td>\n",
       "      <td>2019-09-09 18:24:04.90096</td>\n",
       "      <td>2019-11-20 22:00:13.036321</td>\n",
       "      <td>t</td>\n",
       "      <td>No activity in private repository</td>\n",
       "      <td>f</td>\n",
       "      <td>True</td>\n",
       "      <td>NaN</td>\n",
       "      <td>NaN</td>\n",
       "      <td>11</td>\n",
       "      <td>...</td>\n",
       "      <td>NaN</td>\n",
       "      <td>NaN</td>\n",
       "      <td>f</td>\n",
       "      <td>2019-09-09 07:35:20.981+00</td>\n",
       "      <td>2019-12-04 09:17:02.998689+00</td>\n",
       "      <td>https://github.com/rolling-scopes-school/76c0e...</td>\n",
       "      <td>NaN</td>\n",
       "      <td>5580</td>\n",
       "      <td>[]</td>\n",
       "      <td>NaN</td>\n",
       "    </tr>\n",
       "    <tr>\n",
       "      <th>2</th>\n",
       "      <td>11616</td>\n",
       "      <td>2020-02-05 12:39:48.166948</td>\n",
       "      <td>2020-02-05 12:39:48.166948</td>\n",
       "      <td>f</td>\n",
       "      <td>NaN</td>\n",
       "      <td>f</td>\n",
       "      <td>False</td>\n",
       "      <td>NaN</td>\n",
       "      <td>NaN</td>\n",
       "      <td>16</td>\n",
       "      <td>...</td>\n",
       "      <td>NaN</td>\n",
       "      <td>NaN</td>\n",
       "      <td>f</td>\n",
       "      <td>2020-02-05 12:39:48.164+00</td>\n",
       "      <td>NaN</td>\n",
       "      <td>NaN</td>\n",
       "      <td>NaN</td>\n",
       "      <td>9557</td>\n",
       "      <td>[]</td>\n",
       "      <td>NaN</td>\n",
       "    </tr>\n",
       "    <tr>\n",
       "      <th>3</th>\n",
       "      <td>11773</td>\n",
       "      <td>2020-02-05 17:16:46.874484</td>\n",
       "      <td>2020-02-05 17:16:46.874484</td>\n",
       "      <td>f</td>\n",
       "      <td>NaN</td>\n",
       "      <td>f</td>\n",
       "      <td>False</td>\n",
       "      <td>NaN</td>\n",
       "      <td>NaN</td>\n",
       "      <td>16</td>\n",
       "      <td>...</td>\n",
       "      <td>NaN</td>\n",
       "      <td>NaN</td>\n",
       "      <td>f</td>\n",
       "      <td>2020-02-05 17:16:46.872+00</td>\n",
       "      <td>NaN</td>\n",
       "      <td>NaN</td>\n",
       "      <td>NaN</td>\n",
       "      <td>9627</td>\n",
       "      <td>[{\"graduationYear\":null,\"faculty\":null,\"univer...</td>\n",
       "      <td>b1</td>\n",
       "    </tr>\n",
       "    <tr>\n",
       "      <th>4</th>\n",
       "      <td>6724</td>\n",
       "      <td>2019-09-09 17:06:56.967084</td>\n",
       "      <td>2020-01-19 16:55:12.069984</td>\n",
       "      <td>t</td>\n",
       "      <td>Failed Stage 2</td>\n",
       "      <td>f</td>\n",
       "      <td>True</td>\n",
       "      <td>NaN</td>\n",
       "      <td>NaN</td>\n",
       "      <td>11</td>\n",
       "      <td>...</td>\n",
       "      <td>NaN</td>\n",
       "      <td>NaN</td>\n",
       "      <td>f</td>\n",
       "      <td>2019-09-09 07:35:20.981+00</td>\n",
       "      <td>1970-01-01 00:00:00+00</td>\n",
       "      <td>https://github.com/rolling-scopes-school/7fb23...</td>\n",
       "      <td>NaN</td>\n",
       "      <td>5390</td>\n",
       "      <td>[]</td>\n",
       "      <td>NaN</td>\n",
       "    </tr>\n",
       "  </tbody>\n",
       "</table>\n",
       "<p>5 rows × 23 columns</p>\n",
       "</div>"
      ],
      "text/plain": [
       "   studentId                 createdDate                 updatedDate  \\\n",
       "0       5740  2019-09-06 17:30:17.681556  2019-12-03 16:24:58.705742   \n",
       "1       6956   2019-09-09 18:24:04.90096  2019-11-20 22:00:13.036321   \n",
       "2      11616  2020-02-05 12:39:48.166948  2020-02-05 12:39:48.166948   \n",
       "3      11773  2020-02-05 17:16:46.874484  2020-02-05 17:16:46.874484   \n",
       "4       6724  2019-09-09 17:06:56.967084  2020-01-19 16:55:12.069984   \n",
       "\n",
       "  isExpelled                    expellingReason courseCompleted  \\\n",
       "0          t  No activity in private repository               f   \n",
       "1          t  No activity in private repository               f   \n",
       "2          f                                NaN               f   \n",
       "3          f                                NaN               f   \n",
       "4          t                     Failed Stage 2               f   \n",
       "\n",
       "   isTopPerformer  preferedMentorGithubId readyFullTime  courseId  ...  \\\n",
       "0            True                     NaN           NaN        11  ...   \n",
       "1            True                     NaN           NaN        11  ...   \n",
       "2           False                     NaN           NaN        16  ...   \n",
       "3           False                     NaN           NaN        16  ...   \n",
       "4            True                     NaN           NaN        11  ...   \n",
       "\n",
       "   hiredById  hiredByName  isFailed                   startDate  \\\n",
       "0        NaN          NaN         f  2019-09-09 07:35:20.981+00   \n",
       "1        NaN          NaN         f  2019-09-09 07:35:20.981+00   \n",
       "2        NaN          NaN         f  2020-02-05 12:39:48.164+00   \n",
       "3        NaN          NaN         f  2020-02-05 17:16:46.872+00   \n",
       "4        NaN          NaN         f  2019-09-09 07:35:20.981+00   \n",
       "\n",
       "                         endDate  \\\n",
       "0  2019-12-04 09:17:02.998689+00   \n",
       "1  2019-12-04 09:17:02.998689+00   \n",
       "2                            NaN   \n",
       "3                            NaN   \n",
       "4         1970-01-01 00:00:00+00   \n",
       "\n",
       "                                          repository  \\\n",
       "0  https://github.com/rolling-scopes-school/1b3f6...   \n",
       "1  https://github.com/rolling-scopes-school/76c0e...   \n",
       "2                                                NaN   \n",
       "3                                                NaN   \n",
       "4  https://github.com/rolling-scopes-school/7fb23...   \n",
       "\n",
       "  repositoryLastActivityDate idUser  \\\n",
       "0                        NaN   4467   \n",
       "1                        NaN   5580   \n",
       "2                        NaN   9557   \n",
       "3                        NaN   9627   \n",
       "4                        NaN   5390   \n",
       "\n",
       "                                    educationHistory englishLevel  \n",
       "0                                                 []          NaN  \n",
       "1                                                 []          NaN  \n",
       "2                                                 []          NaN  \n",
       "3  [{\"graduationYear\":null,\"faculty\":null,\"univer...           b1  \n",
       "4                                                 []          NaN  \n",
       "\n",
       "[5 rows x 23 columns]"
      ]
     },
     "execution_count": 5,
     "metadata": {},
     "output_type": "execute_result"
    }
   ],
   "source": [
    "# посмотрим на данные датасета\n",
    "train_data.head()"
   ]
  },
  {
   "cell_type": "code",
   "execution_count": 6,
   "metadata": {
    "execution": {
     "iopub.execute_input": "2021-03-28T18:37:00.981468Z",
     "iopub.status.busy": "2021-03-28T18:37:00.980291Z",
     "iopub.status.idle": "2021-03-28T18:37:00.990973Z",
     "shell.execute_reply": "2021-03-28T18:37:00.990164Z"
    },
    "papermill": {
     "duration": 0.069611,
     "end_time": "2021-03-28T18:37:00.991139",
     "exception": false,
     "start_time": "2021-03-28T18:37:00.921528",
     "status": "completed"
    },
    "tags": []
   },
   "outputs": [
    {
     "data": {
      "text/plain": [
       "studentId                         0\n",
       "createdDate                       0\n",
       "updatedDate                       0\n",
       "isExpelled                        0\n",
       "expellingReason                5011\n",
       "courseCompleted                   0\n",
       "isTopPerformer                    0\n",
       "preferedMentorGithubId        10471\n",
       "readyFullTime                 10470\n",
       "courseId                          0\n",
       "userId                            0\n",
       "mentorId                       7862\n",
       "cvUrl                         10471\n",
       "hiredById                     10471\n",
       "hiredByName                   10471\n",
       "isFailed                          0\n",
       "startDate                         0\n",
       "endDate                        1439\n",
       "repository                     8961\n",
       "repositoryLastActivityDate    10100\n",
       "idUser                            0\n",
       "educationHistory                  0\n",
       "englishLevel                   5059\n",
       "dtype: int64"
      ]
     },
     "execution_count": 6,
     "metadata": {},
     "output_type": "execute_result"
    }
   ],
   "source": [
    "# проверим число отсутствующих значений в тренировочном и тестовом датасете\n",
    "train_data.isna().sum()"
   ]
  },
  {
   "cell_type": "code",
   "execution_count": 7,
   "metadata": {
    "execution": {
     "iopub.execute_input": "2021-03-28T18:37:01.088605Z",
     "iopub.status.busy": "2021-03-28T18:37:01.086994Z",
     "iopub.status.idle": "2021-03-28T18:37:01.093483Z",
     "shell.execute_reply": "2021-03-28T18:37:01.092491Z"
    },
    "papermill": {
     "duration": 0.060839,
     "end_time": "2021-03-28T18:37:01.093687",
     "exception": false,
     "start_time": "2021-03-28T18:37:01.032848",
     "status": "completed"
    },
    "tags": []
   },
   "outputs": [
    {
     "data": {
      "text/plain": [
       "studentId                        0\n",
       "createdDate                      0\n",
       "updatedDate                      0\n",
       "isExpelled                       0\n",
       "expellingReason               2991\n",
       "courseCompleted                  0\n",
       "preferedMentorGithubId        2991\n",
       "readyFullTime                 2991\n",
       "courseId                         0\n",
       "userId                           0\n",
       "mentorId                      2524\n",
       "cvUrl                         2991\n",
       "hiredById                     2991\n",
       "hiredByName                   2991\n",
       "isFailed                         0\n",
       "startDate                        0\n",
       "endDate                       2991\n",
       "repository                    2704\n",
       "repositoryLastActivityDate    2913\n",
       "idUser                           0\n",
       "educationHistory                 0\n",
       "englishLevel                  1496\n",
       "dtype: int64"
      ]
     },
     "execution_count": 7,
     "metadata": {},
     "output_type": "execute_result"
    }
   ],
   "source": [
    "test_data.isna().sum()"
   ]
  },
  {
   "cell_type": "markdown",
   "metadata": {
    "papermill": {
     "duration": 0.041049,
     "end_time": "2021-03-28T18:37:01.177586",
     "exception": false,
     "start_time": "2021-03-28T18:37:01.136537",
     "status": "completed"
    },
    "tags": []
   },
   "source": [
    "после просмотра колонок с отсутствующими значениями было решено отбросить следующие колонки: \n",
    "* expellingReason (данные об отчислении есть в колонке \"isExpelled\")\n",
    "* preferedMentorGithubId (предпочтительный ментор - пока нет причины считать, что этот признак даст нам лучшее предсказание)\n",
    "* readyFullTime (в данном столбце есть только одно уникальное значение - 'f', часть значений не заполнена, т.е. = Nan)\n",
    "* mentorId (по той же причине, что и \"preferedMentorGithubId\")\n",
    "* cvUrl (это скорее всего ссылка на резюме, т.к. она не заполнена, тоже не имеет смысла)\n",
    "* hiredById (это скорее всего ID того, кто взял на курс студента, т.к. она не заполнена, тоже не имеет смысла)\n",
    "* hiredByName (это скорее всего имя того, кто взял на курс студента, т.к. она не заполнена, тоже не имеет смысла)\n",
    "* endDate (дата окончания (курса?) - пока нет причины считать, что этот признак даст нам лучшее предсказание)\n",
    "* repository (ссылка на репозиторий также не даст нам улучшения предсказания, т.к. отсутствующие значения есть и при **train_data.isTopPerformer == True]**)\n",
    "* repositoryLastActivityDate (дата последнего обновления репозитория также не даст нам улучшения предсказания, т.к. больашя часть отсутствующих значений есть при **train_data.isTopPerformer == True]**)\n",
    "* englishLevel (уровень английского имеет много уровней, а также отсутствующие значения и в **train_data.isTopPerformer == True]**)"
   ]
  },
  {
   "cell_type": "code",
   "execution_count": 8,
   "metadata": {
    "execution": {
     "iopub.execute_input": "2021-03-28T18:37:01.266533Z",
     "iopub.status.busy": "2021-03-28T18:37:01.265795Z",
     "iopub.status.idle": "2021-03-28T18:37:01.270164Z",
     "shell.execute_reply": "2021-03-28T18:37:01.268993Z"
    },
    "papermill": {
     "duration": 0.050366,
     "end_time": "2021-03-28T18:37:01.270352",
     "exception": false,
     "start_time": "2021-03-28T18:37:01.219986",
     "status": "completed"
    },
    "tags": []
   },
   "outputs": [],
   "source": [
    "# разделим искомое значение и тренировочные данные\n",
    "#y = train_data['isTopPerformer']\n",
    "#train_data = train_data.drop('isTopPerformer', axis=1)"
   ]
  },
  {
   "cell_type": "code",
   "execution_count": 9,
   "metadata": {
    "execution": {
     "iopub.execute_input": "2021-03-28T18:37:01.380908Z",
     "iopub.status.busy": "2021-03-28T18:37:01.370025Z",
     "iopub.status.idle": "2021-03-28T18:37:01.384401Z",
     "shell.execute_reply": "2021-03-28T18:37:01.383651Z"
    },
    "papermill": {
     "duration": 0.07359,
     "end_time": "2021-03-28T18:37:01.384561",
     "exception": false,
     "start_time": "2021-03-28T18:37:01.310971",
     "status": "completed"
    },
    "tags": []
   },
   "outputs": [],
   "source": [
    "# т.к. отсутствующие значение есть в одних и тех же столбцах на тренировочных и тестовых данных, то отбросим эти значения\n",
    "drop_list_nan = []\n",
    "for i in train_data.columns:\n",
    "    if train_data[i].isna().sum() > 0:\n",
    "        drop_list_nan.append(i)"
   ]
  },
  {
   "cell_type": "code",
   "execution_count": 10,
   "metadata": {
    "execution": {
     "iopub.execute_input": "2021-03-28T18:37:01.476181Z",
     "iopub.status.busy": "2021-03-28T18:37:01.475494Z",
     "iopub.status.idle": "2021-03-28T18:37:01.479147Z",
     "shell.execute_reply": "2021-03-28T18:37:01.478545Z"
    },
    "papermill": {
     "duration": 0.053724,
     "end_time": "2021-03-28T18:37:01.479326",
     "exception": false,
     "start_time": "2021-03-28T18:37:01.425602",
     "status": "completed"
    },
    "tags": []
   },
   "outputs": [],
   "source": [
    "train_data = train_data.drop(drop_list_nan, axis=1)\n",
    "test_data = test_data.drop(drop_list_nan, axis=1)"
   ]
  },
  {
   "cell_type": "code",
   "execution_count": 11,
   "metadata": {
    "execution": {
     "iopub.execute_input": "2021-03-28T18:37:01.580786Z",
     "iopub.status.busy": "2021-03-28T18:37:01.580055Z",
     "iopub.status.idle": "2021-03-28T18:37:01.585008Z",
     "shell.execute_reply": "2021-03-28T18:37:01.584331Z"
    },
    "papermill": {
     "duration": 0.064609,
     "end_time": "2021-03-28T18:37:01.585155",
     "exception": false,
     "start_time": "2021-03-28T18:37:01.520546",
     "status": "completed"
    },
    "tags": []
   },
   "outputs": [
    {
     "data": {
      "text/html": [
       "<div>\n",
       "<style scoped>\n",
       "    .dataframe tbody tr th:only-of-type {\n",
       "        vertical-align: middle;\n",
       "    }\n",
       "\n",
       "    .dataframe tbody tr th {\n",
       "        vertical-align: top;\n",
       "    }\n",
       "\n",
       "    .dataframe thead th {\n",
       "        text-align: right;\n",
       "    }\n",
       "</style>\n",
       "<table border=\"1\" class=\"dataframe\">\n",
       "  <thead>\n",
       "    <tr style=\"text-align: right;\">\n",
       "      <th></th>\n",
       "      <th>studentId</th>\n",
       "      <th>createdDate</th>\n",
       "      <th>updatedDate</th>\n",
       "      <th>isExpelled</th>\n",
       "      <th>courseCompleted</th>\n",
       "      <th>isTopPerformer</th>\n",
       "      <th>courseId</th>\n",
       "      <th>userId</th>\n",
       "      <th>isFailed</th>\n",
       "      <th>startDate</th>\n",
       "      <th>idUser</th>\n",
       "      <th>educationHistory</th>\n",
       "    </tr>\n",
       "  </thead>\n",
       "  <tbody>\n",
       "    <tr>\n",
       "      <th>0</th>\n",
       "      <td>5740</td>\n",
       "      <td>2019-09-06 17:30:17.681556</td>\n",
       "      <td>2019-12-03 16:24:58.705742</td>\n",
       "      <td>t</td>\n",
       "      <td>f</td>\n",
       "      <td>True</td>\n",
       "      <td>11</td>\n",
       "      <td>4467</td>\n",
       "      <td>f</td>\n",
       "      <td>2019-09-09 07:35:20.981+00</td>\n",
       "      <td>4467</td>\n",
       "      <td>[]</td>\n",
       "    </tr>\n",
       "    <tr>\n",
       "      <th>1</th>\n",
       "      <td>6956</td>\n",
       "      <td>2019-09-09 18:24:04.90096</td>\n",
       "      <td>2019-11-20 22:00:13.036321</td>\n",
       "      <td>t</td>\n",
       "      <td>f</td>\n",
       "      <td>True</td>\n",
       "      <td>11</td>\n",
       "      <td>5580</td>\n",
       "      <td>f</td>\n",
       "      <td>2019-09-09 07:35:20.981+00</td>\n",
       "      <td>5580</td>\n",
       "      <td>[]</td>\n",
       "    </tr>\n",
       "    <tr>\n",
       "      <th>2</th>\n",
       "      <td>11616</td>\n",
       "      <td>2020-02-05 12:39:48.166948</td>\n",
       "      <td>2020-02-05 12:39:48.166948</td>\n",
       "      <td>f</td>\n",
       "      <td>f</td>\n",
       "      <td>False</td>\n",
       "      <td>16</td>\n",
       "      <td>9557</td>\n",
       "      <td>f</td>\n",
       "      <td>2020-02-05 12:39:48.164+00</td>\n",
       "      <td>9557</td>\n",
       "      <td>[]</td>\n",
       "    </tr>\n",
       "    <tr>\n",
       "      <th>3</th>\n",
       "      <td>11773</td>\n",
       "      <td>2020-02-05 17:16:46.874484</td>\n",
       "      <td>2020-02-05 17:16:46.874484</td>\n",
       "      <td>f</td>\n",
       "      <td>f</td>\n",
       "      <td>False</td>\n",
       "      <td>16</td>\n",
       "      <td>9627</td>\n",
       "      <td>f</td>\n",
       "      <td>2020-02-05 17:16:46.872+00</td>\n",
       "      <td>9627</td>\n",
       "      <td>[{\"graduationYear\":null,\"faculty\":null,\"univer...</td>\n",
       "    </tr>\n",
       "    <tr>\n",
       "      <th>4</th>\n",
       "      <td>6724</td>\n",
       "      <td>2019-09-09 17:06:56.967084</td>\n",
       "      <td>2020-01-19 16:55:12.069984</td>\n",
       "      <td>t</td>\n",
       "      <td>f</td>\n",
       "      <td>True</td>\n",
       "      <td>11</td>\n",
       "      <td>5390</td>\n",
       "      <td>f</td>\n",
       "      <td>2019-09-09 07:35:20.981+00</td>\n",
       "      <td>5390</td>\n",
       "      <td>[]</td>\n",
       "    </tr>\n",
       "  </tbody>\n",
       "</table>\n",
       "</div>"
      ],
      "text/plain": [
       "   studentId                 createdDate                 updatedDate  \\\n",
       "0       5740  2019-09-06 17:30:17.681556  2019-12-03 16:24:58.705742   \n",
       "1       6956   2019-09-09 18:24:04.90096  2019-11-20 22:00:13.036321   \n",
       "2      11616  2020-02-05 12:39:48.166948  2020-02-05 12:39:48.166948   \n",
       "3      11773  2020-02-05 17:16:46.874484  2020-02-05 17:16:46.874484   \n",
       "4       6724  2019-09-09 17:06:56.967084  2020-01-19 16:55:12.069984   \n",
       "\n",
       "  isExpelled courseCompleted  isTopPerformer  courseId  userId isFailed  \\\n",
       "0          t               f            True        11    4467        f   \n",
       "1          t               f            True        11    5580        f   \n",
       "2          f               f           False        16    9557        f   \n",
       "3          f               f           False        16    9627        f   \n",
       "4          t               f            True        11    5390        f   \n",
       "\n",
       "                    startDate  idUser  \\\n",
       "0  2019-09-09 07:35:20.981+00    4467   \n",
       "1  2019-09-09 07:35:20.981+00    5580   \n",
       "2  2020-02-05 12:39:48.164+00    9557   \n",
       "3  2020-02-05 17:16:46.872+00    9627   \n",
       "4  2019-09-09 07:35:20.981+00    5390   \n",
       "\n",
       "                                    educationHistory  \n",
       "0                                                 []  \n",
       "1                                                 []  \n",
       "2                                                 []  \n",
       "3  [{\"graduationYear\":null,\"faculty\":null,\"univer...  \n",
       "4                                                 []  "
      ]
     },
     "execution_count": 11,
     "metadata": {},
     "output_type": "execute_result"
    }
   ],
   "source": [
    "# посмотрим на данные\n",
    "train_data.head()"
   ]
  },
  {
   "cell_type": "markdown",
   "metadata": {
    "papermill": {
     "duration": 0.041707,
     "end_time": "2021-03-28T18:37:01.668909",
     "exception": false,
     "start_time": "2021-03-28T18:37:01.627202",
     "status": "completed"
    },
    "tags": []
   },
   "source": [
    "Следует отбросить также значения \"idUser\" т.к. оно дублирует колонку \"userId\", а также нет смысла в колонке \"courseCompleted\", т.к. она имеет одно значение - **\"f\"**.\n",
    "Колонка \"educationHistory\" пока также отбрасывается, т.к. в тренировочных данных более 6000 значений заполнено символом **\"[]\"**."
   ]
  },
  {
   "cell_type": "code",
   "execution_count": 12,
   "metadata": {
    "execution": {
     "iopub.execute_input": "2021-03-28T18:37:01.769544Z",
     "iopub.status.busy": "2021-03-28T18:37:01.768511Z",
     "iopub.status.idle": "2021-03-28T18:37:01.773699Z",
     "shell.execute_reply": "2021-03-28T18:37:01.772456Z"
    },
    "papermill": {
     "duration": 0.061645,
     "end_time": "2021-03-28T18:37:01.773885",
     "exception": false,
     "start_time": "2021-03-28T18:37:01.712240",
     "status": "completed"
    },
    "tags": []
   },
   "outputs": [],
   "source": [
    "drop_list_useless = ['idUser', 'courseCompleted', 'educationHistory']\n",
    "train_data = train_data.drop(drop_list_useless, axis=1)\n",
    "test_data = test_data.drop(drop_list_useless, axis=1)"
   ]
  },
  {
   "cell_type": "code",
   "execution_count": 13,
   "metadata": {
    "execution": {
     "iopub.execute_input": "2021-03-28T18:37:01.879607Z",
     "iopub.status.busy": "2021-03-28T18:37:01.878857Z",
     "iopub.status.idle": "2021-03-28T18:37:01.884569Z",
     "shell.execute_reply": "2021-03-28T18:37:01.883859Z"
    },
    "papermill": {
     "duration": 0.067212,
     "end_time": "2021-03-28T18:37:01.884721",
     "exception": false,
     "start_time": "2021-03-28T18:37:01.817509",
     "status": "completed"
    },
    "tags": []
   },
   "outputs": [
    {
     "data": {
      "text/html": [
       "<div>\n",
       "<style scoped>\n",
       "    .dataframe tbody tr th:only-of-type {\n",
       "        vertical-align: middle;\n",
       "    }\n",
       "\n",
       "    .dataframe tbody tr th {\n",
       "        vertical-align: top;\n",
       "    }\n",
       "\n",
       "    .dataframe thead th {\n",
       "        text-align: right;\n",
       "    }\n",
       "</style>\n",
       "<table border=\"1\" class=\"dataframe\">\n",
       "  <thead>\n",
       "    <tr style=\"text-align: right;\">\n",
       "      <th></th>\n",
       "      <th>createdDate</th>\n",
       "      <th>updatedDate</th>\n",
       "      <th>score</th>\n",
       "      <th>comment</th>\n",
       "      <th>studentId</th>\n",
       "      <th>courseTaskId</th>\n",
       "      <th>historicalScores</th>\n",
       "      <th>juryScores</th>\n",
       "      <th>checkerId</th>\n",
       "      <th>anonymous</th>\n",
       "    </tr>\n",
       "  </thead>\n",
       "  <tbody>\n",
       "    <tr>\n",
       "      <th>0</th>\n",
       "      <td>2019-09-19 18:36:46.232791</td>\n",
       "      <td>2019-09-19 18:36:46.232791</td>\n",
       "      <td>100</td>\n",
       "      <td>NaN</td>\n",
       "      <td>7266</td>\n",
       "      <td>300</td>\n",
       "      <td>[{\"authorId\":0,\"score\":100,\"dateTime\":15689182...</td>\n",
       "      <td>[]</td>\n",
       "      <td>NaN</td>\n",
       "      <td>NaN</td>\n",
       "    </tr>\n",
       "    <tr>\n",
       "      <th>1</th>\n",
       "      <td>2019-10-02 12:48:27.977059</td>\n",
       "      <td>2019-10-21 09:58:59.674519</td>\n",
       "      <td>41</td>\n",
       "      <td>NaN</td>\n",
       "      <td>7929</td>\n",
       "      <td>313</td>\n",
       "      <td>[{\"authorId\":0,\"score\":38,\"dateTime\":157002050...</td>\n",
       "      <td>[]</td>\n",
       "      <td>NaN</td>\n",
       "      <td>NaN</td>\n",
       "    </tr>\n",
       "    <tr>\n",
       "      <th>2</th>\n",
       "      <td>2019-10-08 15:05:43.777805</td>\n",
       "      <td>2019-10-08 15:05:43.777805</td>\n",
       "      <td>100</td>\n",
       "      <td>NaN</td>\n",
       "      <td>6134</td>\n",
       "      <td>308</td>\n",
       "      <td>[{\"authorId\":0,\"score\":100,\"dateTime\":15705471...</td>\n",
       "      <td>[]</td>\n",
       "      <td>NaN</td>\n",
       "      <td>NaN</td>\n",
       "    </tr>\n",
       "    <tr>\n",
       "      <th>3</th>\n",
       "      <td>2019-10-11 15:03:28.245927</td>\n",
       "      <td>2019-10-11 15:03:28.245927</td>\n",
       "      <td>100</td>\n",
       "      <td>NaN</td>\n",
       "      <td>5882</td>\n",
       "      <td>305</td>\n",
       "      <td>[{\"authorId\":0,\"score\":100,\"dateTime\":15708062...</td>\n",
       "      <td>[]</td>\n",
       "      <td>NaN</td>\n",
       "      <td>NaN</td>\n",
       "    </tr>\n",
       "    <tr>\n",
       "      <th>4</th>\n",
       "      <td>2019-10-12 16:31:57.699719</td>\n",
       "      <td>2019-10-12 16:31:57.699719</td>\n",
       "      <td>100</td>\n",
       "      <td>NaN</td>\n",
       "      <td>8247</td>\n",
       "      <td>305</td>\n",
       "      <td>[{\"authorId\":0,\"score\":100,\"dateTime\":15708979...</td>\n",
       "      <td>[]</td>\n",
       "      <td>NaN</td>\n",
       "      <td>NaN</td>\n",
       "    </tr>\n",
       "  </tbody>\n",
       "</table>\n",
       "</div>"
      ],
      "text/plain": [
       "                  createdDate                 updatedDate  score comment  \\\n",
       "0  2019-09-19 18:36:46.232791  2019-09-19 18:36:46.232791    100     NaN   \n",
       "1  2019-10-02 12:48:27.977059  2019-10-21 09:58:59.674519     41     NaN   \n",
       "2  2019-10-08 15:05:43.777805  2019-10-08 15:05:43.777805    100     NaN   \n",
       "3  2019-10-11 15:03:28.245927  2019-10-11 15:03:28.245927    100     NaN   \n",
       "4  2019-10-12 16:31:57.699719  2019-10-12 16:31:57.699719    100     NaN   \n",
       "\n",
       "   studentId  courseTaskId                                   historicalScores  \\\n",
       "0       7266           300  [{\"authorId\":0,\"score\":100,\"dateTime\":15689182...   \n",
       "1       7929           313  [{\"authorId\":0,\"score\":38,\"dateTime\":157002050...   \n",
       "2       6134           308  [{\"authorId\":0,\"score\":100,\"dateTime\":15705471...   \n",
       "3       5882           305  [{\"authorId\":0,\"score\":100,\"dateTime\":15708062...   \n",
       "4       8247           305  [{\"authorId\":0,\"score\":100,\"dateTime\":15708979...   \n",
       "\n",
       "  juryScores  checkerId anonymous  \n",
       "0         []        NaN       NaN  \n",
       "1         []        NaN       NaN  \n",
       "2         []        NaN       NaN  \n",
       "3         []        NaN       NaN  \n",
       "4         []        NaN       NaN  "
      ]
     },
     "execution_count": 13,
     "metadata": {},
     "output_type": "execute_result"
    }
   ],
   "source": [
    "#посмотрим на данные по оценке заданий\n",
    "task_result.head()"
   ]
  },
  {
   "cell_type": "code",
   "execution_count": 14,
   "metadata": {
    "execution": {
     "iopub.execute_input": "2021-03-28T18:37:02.042713Z",
     "iopub.status.busy": "2021-03-28T18:37:02.041927Z",
     "iopub.status.idle": "2021-03-28T18:37:02.056156Z",
     "shell.execute_reply": "2021-03-28T18:37:02.055427Z"
    },
    "papermill": {
     "duration": 0.125269,
     "end_time": "2021-03-28T18:37:02.056339",
     "exception": false,
     "start_time": "2021-03-28T18:37:01.931070",
     "status": "completed"
    },
    "tags": []
   },
   "outputs": [
    {
     "data": {
      "text/plain": [
       "createdDate             0\n",
       "updatedDate             0\n",
       "score                   0\n",
       "comment             53392\n",
       "studentId               0\n",
       "courseTaskId            0\n",
       "historicalScores        0\n",
       "juryScores          23852\n",
       "checkerId           70410\n",
       "anonymous           70410\n",
       "dtype: int64"
      ]
     },
     "execution_count": 14,
     "metadata": {},
     "output_type": "execute_result"
    }
   ],
   "source": [
    "task_result.isna().sum()"
   ]
  },
  {
   "cell_type": "code",
   "execution_count": 15,
   "metadata": {
    "execution": {
     "iopub.execute_input": "2021-03-28T18:37:02.174617Z",
     "iopub.status.busy": "2021-03-28T18:37:02.163954Z",
     "iopub.status.idle": "2021-03-28T18:37:02.219170Z",
     "shell.execute_reply": "2021-03-28T18:37:02.218430Z"
    },
    "papermill": {
     "duration": 0.116535,
     "end_time": "2021-03-28T18:37:02.219353",
     "exception": false,
     "start_time": "2021-03-28T18:37:02.102818",
     "status": "completed"
    },
    "tags": []
   },
   "outputs": [],
   "source": [
    "# отбросим колонки с отсутствующими значениями, по сути нас интересует только колонка \"score\"\n",
    "drop_list_task = []\n",
    "for i in task_result.columns:\n",
    "    if task_result[i].isna().sum() > 0:\n",
    "        drop_list_task.append(i)"
   ]
  },
  {
   "cell_type": "code",
   "execution_count": 16,
   "metadata": {
    "execution": {
     "iopub.execute_input": "2021-03-28T18:37:02.327719Z",
     "iopub.status.busy": "2021-03-28T18:37:02.322415Z",
     "iopub.status.idle": "2021-03-28T18:37:02.331507Z",
     "shell.execute_reply": "2021-03-28T18:37:02.330787Z"
    },
    "papermill": {
     "duration": 0.063083,
     "end_time": "2021-03-28T18:37:02.331659",
     "exception": false,
     "start_time": "2021-03-28T18:37:02.268576",
     "status": "completed"
    },
    "tags": []
   },
   "outputs": [],
   "source": [
    "task_result = task_result.drop(drop_list_task, axis=1)\n",
    "# также отбросим колонку \"historicalScores\"\n",
    "#task_result = task_result.drop('historicalScores', axis=1)"
   ]
  },
  {
   "cell_type": "code",
   "execution_count": 17,
   "metadata": {
    "execution": {
     "iopub.execute_input": "2021-03-28T18:37:02.432427Z",
     "iopub.status.busy": "2021-03-28T18:37:02.431285Z",
     "iopub.status.idle": "2021-03-28T18:37:02.476994Z",
     "shell.execute_reply": "2021-03-28T18:37:02.476366Z"
    },
    "papermill": {
     "duration": 0.100252,
     "end_time": "2021-03-28T18:37:02.477143",
     "exception": false,
     "start_time": "2021-03-28T18:37:02.376891",
     "status": "completed"
    },
    "tags": []
   },
   "outputs": [],
   "source": [
    "# добавим реальный максимальный балл в данные с результатами по выполненным заданиям, а также 'scoreWeight','courseEndDate'\n",
    "task_result = task_result.merge(task_data[['courseTaskId', 'maxScore', 'scoreWeight','courseEndDate']], how='left', on='courseTaskId')"
   ]
  },
  {
   "cell_type": "code",
   "execution_count": 18,
   "metadata": {
    "execution": {
     "iopub.execute_input": "2021-03-28T18:37:02.610747Z",
     "iopub.status.busy": "2021-03-28T18:37:02.608844Z",
     "iopub.status.idle": "2021-03-28T18:37:04.950969Z",
     "shell.execute_reply": "2021-03-28T18:37:04.950160Z"
    },
    "papermill": {
     "duration": 2.429315,
     "end_time": "2021-03-28T18:37:04.951128",
     "exception": false,
     "start_time": "2021-03-28T18:37:02.521813",
     "status": "completed"
    },
    "tags": []
   },
   "outputs": [],
   "source": [
    "# переведем дату в число\n",
    "date_list_task = ['createdDate', 'updatedDate', 'courseEndDate']\n",
    "for x in date_list_task:\n",
    "    task_result[x]= pd.to_datetime(task_result[x]).dt.strftime(\"%y%m%d\").astype(int)"
   ]
  },
  {
   "cell_type": "code",
   "execution_count": 19,
   "metadata": {
    "execution": {
     "iopub.execute_input": "2021-03-28T18:37:05.169333Z",
     "iopub.status.busy": "2021-03-28T18:37:05.137476Z",
     "iopub.status.idle": "2021-03-28T18:37:05.421128Z",
     "shell.execute_reply": "2021-03-28T18:37:05.420512Z"
    },
    "papermill": {
     "duration": 0.426386,
     "end_time": "2021-03-28T18:37:05.421301",
     "exception": false,
     "start_time": "2021-03-28T18:37:04.994915",
     "status": "completed"
    },
    "tags": []
   },
   "outputs": [],
   "source": [
    "# также переведем дату в число на тренировочных и тестовых данных\n",
    "date_list_train = ['createdDate', 'updatedDate', 'startDate']\n",
    "for x in date_list_train:\n",
    "    train_data[x]= pd.to_datetime(train_data[x]).dt.strftime(\"%y%m%d\").astype(int)\n",
    "    test_data[x]= pd.to_datetime(test_data[x]).dt.strftime(\"%y%m%d\").astype(int)"
   ]
  },
  {
   "cell_type": "code",
   "execution_count": 20,
   "metadata": {
    "execution": {
     "iopub.execute_input": "2021-03-28T18:37:05.522494Z",
     "iopub.status.busy": "2021-03-28T18:37:05.521643Z",
     "iopub.status.idle": "2021-03-28T18:37:05.948288Z",
     "shell.execute_reply": "2021-03-28T18:37:05.948799Z"
    },
    "papermill": {
     "duration": 0.482311,
     "end_time": "2021-03-28T18:37:05.948994",
     "exception": false,
     "start_time": "2021-03-28T18:37:05.466683",
     "status": "completed"
    },
    "tags": []
   },
   "outputs": [],
   "source": [
    "# определим количество пройденных курсов при количестве баллов от 0 до 10000\n",
    "plot_graph = pd.DataFrame(columns=['score', 'number_course'])\n",
    "for x,i in enumerate(range(0, 10000, 100)):\n",
    "    plot_graph.loc[x] = (i, task_result[task_result.score > i].courseTaskId.nunique())"
   ]
  },
  {
   "cell_type": "code",
   "execution_count": 21,
   "metadata": {
    "execution": {
     "iopub.execute_input": "2021-03-28T18:37:06.050599Z",
     "iopub.status.busy": "2021-03-28T18:37:06.049846Z",
     "iopub.status.idle": "2021-03-28T18:37:06.065336Z",
     "shell.execute_reply": "2021-03-28T18:37:06.065867Z"
    },
    "papermill": {
     "duration": 0.072009,
     "end_time": "2021-03-28T18:37:06.066075",
     "exception": false,
     "start_time": "2021-03-28T18:37:05.994066",
     "status": "completed"
    },
    "tags": []
   },
   "outputs": [
    {
     "data": {
      "text/html": [
       "<div>\n",
       "<style scoped>\n",
       "    .dataframe tbody tr th:only-of-type {\n",
       "        vertical-align: middle;\n",
       "    }\n",
       "\n",
       "    .dataframe tbody tr th {\n",
       "        vertical-align: top;\n",
       "    }\n",
       "\n",
       "    .dataframe thead th {\n",
       "        text-align: right;\n",
       "    }\n",
       "</style>\n",
       "<table border=\"1\" class=\"dataframe\">\n",
       "  <thead>\n",
       "    <tr style=\"text-align: right;\">\n",
       "      <th></th>\n",
       "      <th>score</th>\n",
       "      <th>number_course</th>\n",
       "    </tr>\n",
       "  </thead>\n",
       "  <tbody>\n",
       "    <tr>\n",
       "      <th>0</th>\n",
       "      <td>0</td>\n",
       "      <td>276</td>\n",
       "    </tr>\n",
       "    <tr>\n",
       "      <th>1</th>\n",
       "      <td>100</td>\n",
       "      <td>94</td>\n",
       "    </tr>\n",
       "    <tr>\n",
       "      <th>2</th>\n",
       "      <td>200</td>\n",
       "      <td>30</td>\n",
       "    </tr>\n",
       "    <tr>\n",
       "      <th>3</th>\n",
       "      <td>300</td>\n",
       "      <td>14</td>\n",
       "    </tr>\n",
       "    <tr>\n",
       "      <th>4</th>\n",
       "      <td>400</td>\n",
       "      <td>14</td>\n",
       "    </tr>\n",
       "    <tr>\n",
       "      <th>5</th>\n",
       "      <td>500</td>\n",
       "      <td>10</td>\n",
       "    </tr>\n",
       "    <tr>\n",
       "      <th>6</th>\n",
       "      <td>600</td>\n",
       "      <td>9</td>\n",
       "    </tr>\n",
       "    <tr>\n",
       "      <th>7</th>\n",
       "      <td>700</td>\n",
       "      <td>9</td>\n",
       "    </tr>\n",
       "    <tr>\n",
       "      <th>8</th>\n",
       "      <td>800</td>\n",
       "      <td>9</td>\n",
       "    </tr>\n",
       "    <tr>\n",
       "      <th>9</th>\n",
       "      <td>900</td>\n",
       "      <td>9</td>\n",
       "    </tr>\n",
       "    <tr>\n",
       "      <th>10</th>\n",
       "      <td>1000</td>\n",
       "      <td>4</td>\n",
       "    </tr>\n",
       "    <tr>\n",
       "      <th>11</th>\n",
       "      <td>1100</td>\n",
       "      <td>3</td>\n",
       "    </tr>\n",
       "    <tr>\n",
       "      <th>12</th>\n",
       "      <td>1200</td>\n",
       "      <td>3</td>\n",
       "    </tr>\n",
       "    <tr>\n",
       "      <th>13</th>\n",
       "      <td>1300</td>\n",
       "      <td>3</td>\n",
       "    </tr>\n",
       "    <tr>\n",
       "      <th>14</th>\n",
       "      <td>1400</td>\n",
       "      <td>3</td>\n",
       "    </tr>\n",
       "    <tr>\n",
       "      <th>15</th>\n",
       "      <td>1500</td>\n",
       "      <td>2</td>\n",
       "    </tr>\n",
       "    <tr>\n",
       "      <th>16</th>\n",
       "      <td>1600</td>\n",
       "      <td>2</td>\n",
       "    </tr>\n",
       "    <tr>\n",
       "      <th>17</th>\n",
       "      <td>1700</td>\n",
       "      <td>2</td>\n",
       "    </tr>\n",
       "    <tr>\n",
       "      <th>18</th>\n",
       "      <td>1800</td>\n",
       "      <td>2</td>\n",
       "    </tr>\n",
       "    <tr>\n",
       "      <th>19</th>\n",
       "      <td>1900</td>\n",
       "      <td>2</td>\n",
       "    </tr>\n",
       "    <tr>\n",
       "      <th>20</th>\n",
       "      <td>2000</td>\n",
       "      <td>2</td>\n",
       "    </tr>\n",
       "    <tr>\n",
       "      <th>21</th>\n",
       "      <td>2100</td>\n",
       "      <td>2</td>\n",
       "    </tr>\n",
       "    <tr>\n",
       "      <th>22</th>\n",
       "      <td>2200</td>\n",
       "      <td>2</td>\n",
       "    </tr>\n",
       "    <tr>\n",
       "      <th>23</th>\n",
       "      <td>2300</td>\n",
       "      <td>2</td>\n",
       "    </tr>\n",
       "  </tbody>\n",
       "</table>\n",
       "</div>"
      ],
      "text/plain": [
       "   score number_course\n",
       "0      0           276\n",
       "1    100            94\n",
       "2    200            30\n",
       "3    300            14\n",
       "4    400            14\n",
       "5    500            10\n",
       "6    600             9\n",
       "7    700             9\n",
       "8    800             9\n",
       "9    900             9\n",
       "10  1000             4\n",
       "11  1100             3\n",
       "12  1200             3\n",
       "13  1300             3\n",
       "14  1400             3\n",
       "15  1500             2\n",
       "16  1600             2\n",
       "17  1700             2\n",
       "18  1800             2\n",
       "19  1900             2\n",
       "20  2000             2\n",
       "21  2100             2\n",
       "22  2200             2\n",
       "23  2300             2"
      ]
     },
     "execution_count": 21,
     "metadata": {},
     "output_type": "execute_result"
    }
   ],
   "source": [
    "# как видно из таблицы, при увеличении оценки более 1000 количество пройденных курсов резко снижается\n",
    "plot_graph[plot_graph.number_course>1]"
   ]
  },
  {
   "cell_type": "code",
   "execution_count": 22,
   "metadata": {
    "execution": {
     "iopub.execute_input": "2021-03-28T18:37:06.164832Z",
     "iopub.status.busy": "2021-03-28T18:37:06.164106Z",
     "iopub.status.idle": "2021-03-28T18:37:06.379394Z",
     "shell.execute_reply": "2021-03-28T18:37:06.378820Z"
    },
    "papermill": {
     "duration": 0.264484,
     "end_time": "2021-03-28T18:37:06.379550",
     "exception": false,
     "start_time": "2021-03-28T18:37:06.115066",
     "status": "completed"
    },
    "tags": []
   },
   "outputs": [
    {
     "data": {
      "text/plain": [
       "<AxesSubplot:xlabel='score', ylabel='number_course'>"
      ]
     },
     "execution_count": 22,
     "metadata": {},
     "output_type": "execute_result"
    },
    {
     "data": {
      "image/png": "[encoded data removed]",
      "text/plain": [
       "<Figure size 432x288 with 1 Axes>"
      ]
     },
     "metadata": {
      "needs_background": "light"
     },
     "output_type": "display_data"
    }
   ],
   "source": [
    "sns.lineplot(x=plot_graph.score.astype('int'), y=plot_graph.number_course.astype('int'))"
   ]
  },
  {
   "cell_type": "code",
   "execution_count": 23,
   "metadata": {
    "execution": {
     "iopub.execute_input": "2021-03-28T18:37:06.478639Z",
     "iopub.status.busy": "2021-03-28T18:37:06.477933Z",
     "iopub.status.idle": "2021-03-28T18:37:11.697591Z",
     "shell.execute_reply": "2021-03-28T18:37:11.696968Z"
    },
    "papermill": {
     "duration": 5.271502,
     "end_time": "2021-03-28T18:37:11.697747",
     "exception": false,
     "start_time": "2021-03-28T18:37:06.426245",
     "status": "completed"
    },
    "tags": []
   },
   "outputs": [
    {
     "data": {
      "text/plain": [
       "<AxesSubplot:ylabel='score'>"
      ]
     },
     "execution_count": 23,
     "metadata": {},
     "output_type": "execute_result"
    },
    {
     "data": {
      "image/png": "[encoded data removed]",
      "text/plain": [
       "<Figure size 432x288 with 1 Axes>"
      ]
     },
     "metadata": {
      "needs_background": "light"
     },
     "output_type": "display_data"
    }
   ],
   "source": [
    "#посмотрим значения \"score\" в task_result\n",
    "sns.lineplot(x=task_result.index, y=task_result.score)"
   ]
  },
  {
   "cell_type": "code",
   "execution_count": 24,
   "metadata": {
    "execution": {
     "iopub.execute_input": "2021-03-28T18:37:11.802062Z",
     "iopub.status.busy": "2021-03-28T18:37:11.800877Z",
     "iopub.status.idle": "2021-03-28T18:37:11.808712Z",
     "shell.execute_reply": "2021-03-28T18:37:11.809348Z"
    },
    "papermill": {
     "duration": 0.061677,
     "end_time": "2021-03-28T18:37:11.809532",
     "exception": false,
     "start_time": "2021-03-28T18:37:11.747855",
     "status": "completed"
    },
    "tags": []
   },
   "outputs": [
    {
     "data": {
      "text/plain": [
       "(1188820, -50, 251.72986993698416, 97.0)"
      ]
     },
     "execution_count": 24,
     "metadata": {},
     "output_type": "execute_result"
    }
   ],
   "source": [
    "# как видно из графика и из минимальных и максимальных значений, есть выбросы. Попробуем их отбросить.\n",
    "task_result.score.max(), task_result.score.min(), task_result.score.mean(), task_result.score.median()"
   ]
  },
  {
   "cell_type": "code",
   "execution_count": 25,
   "metadata": {
    "execution": {
     "iopub.execute_input": "2021-03-28T18:37:11.914920Z",
     "iopub.status.busy": "2021-03-28T18:37:11.914094Z",
     "iopub.status.idle": "2021-03-28T18:37:11.932323Z",
     "shell.execute_reply": "2021-03-28T18:37:11.931681Z"
    },
    "papermill": {
     "duration": 0.074455,
     "end_time": "2021-03-28T18:37:11.932474",
     "exception": false,
     "start_time": "2021-03-28T18:37:11.858019",
     "status": "completed"
    },
    "tags": []
   },
   "outputs": [],
   "source": [
    "#task_result = task_result.drop(index=task_result[task_result.score > 5000].index)\n",
    "task_result = task_result.drop(index=task_result[task_result.score < 0].index)"
   ]
  },
  {
   "cell_type": "code",
   "execution_count": 26,
   "metadata": {
    "execution": {
     "iopub.execute_input": "2021-03-28T18:37:12.035939Z",
     "iopub.status.busy": "2021-03-28T18:37:12.035071Z",
     "iopub.status.idle": "2021-03-28T18:37:12.042541Z",
     "shell.execute_reply": "2021-03-28T18:37:12.041857Z"
    },
    "papermill": {
     "duration": 0.06193,
     "end_time": "2021-03-28T18:37:12.042688",
     "exception": false,
     "start_time": "2021-03-28T18:37:11.980758",
     "status": "completed"
    },
    "tags": []
   },
   "outputs": [
    {
     "data": {
      "text/plain": [
       "(1188820, 0, 251.76121208263044, 97.0)"
      ]
     },
     "execution_count": 26,
     "metadata": {},
     "output_type": "execute_result"
    }
   ],
   "source": [
    "# проверим значения\n",
    "task_result.score.max(), task_result.score.min(), task_result.score.mean(), task_result.score.median()"
   ]
  },
  {
   "cell_type": "code",
   "execution_count": 27,
   "metadata": {
    "execution": {
     "iopub.execute_input": "2021-03-28T18:37:12.155484Z",
     "iopub.status.busy": "2021-03-28T18:37:12.154269Z",
     "iopub.status.idle": "2021-03-28T18:41:06.394373Z",
     "shell.execute_reply": "2021-03-28T18:41:06.392104Z"
    },
    "papermill": {
     "duration": 234.303009,
     "end_time": "2021-03-28T18:41:06.394816",
     "exception": false,
     "start_time": "2021-03-28T18:37:12.091807",
     "status": "completed"
    },
    "tags": []
   },
   "outputs": [],
   "source": [
    "# создадим таблицу с метриками скора и количеством курсов по каждому студенту для тренировочных данных\n",
    "mean_score_train = pd.DataFrame(columns=['studentId', 'mean_score', '100_score', '200_score', '300_score', '400_score',\n",
    "                                         '500_score','max_score', 'count_course', 'real_score', 'mean_weight', 'courseEndDate'])\n",
    "for x,i in enumerate(train_data.studentId):\n",
    "    mean_score_train.loc[x] = i, task_result[task_result.studentId == i]['score'].mean(),\\\n",
    "    task_result[(task_result.studentId == i)&(task_result.score>99)]['score'].count(),\\\n",
    "    task_result[(task_result.studentId == i)&(task_result.score>199)]['score'].count(),\\\n",
    "    task_result[(task_result.studentId == i)&(task_result.score>299)]['score'].count(),\\\n",
    "    task_result[(task_result.studentId == i)&(task_result.score>399)]['score'].count(),\\\n",
    "    task_result[(task_result.studentId == i)&(task_result.score>499)]['score'].count(),\\\n",
    "    task_result[task_result.studentId == i]['score'].max(),\\\n",
    "    task_result[task_result.studentId == i]['courseTaskId'].count(),\\\n",
    "    task_result[task_result.studentId == i]['maxScore'].max(),\\\n",
    "    task_result[task_result.studentId == i]['scoreWeight'].mean(),\\\n",
    "    task_result[task_result.studentId == i]['courseEndDate'].max()"
   ]
  },
  {
   "cell_type": "code",
   "execution_count": 28,
   "metadata": {
    "execution": {
     "iopub.execute_input": "2021-03-28T18:41:06.539690Z",
     "iopub.status.busy": "2021-03-28T18:41:06.535961Z",
     "iopub.status.idle": "2021-03-28T18:42:14.766259Z",
     "shell.execute_reply": "2021-03-28T18:42:14.765157Z"
    },
    "papermill": {
     "duration": 68.304647,
     "end_time": "2021-03-28T18:42:14.766514",
     "exception": false,
     "start_time": "2021-03-28T18:41:06.461867",
     "status": "completed"
    },
    "tags": []
   },
   "outputs": [],
   "source": [
    "# ... и для тестовых\n",
    "mean_score_test = pd.DataFrame(columns=['studentId', 'mean_score', '100_score', '200_score', '300_score', '400_score',\n",
    "                                         '500_score','max_score', 'count_course', 'real_score', 'mean_weight', 'courseEndDate'])\n",
    "for x,i in enumerate(test_data.studentId):\n",
    "    mean_score_test.loc[x] = i, task_result[task_result.studentId == i]['score'].mean(),\\\n",
    "    task_result[(task_result.studentId == i)&(task_result.score>99)]['score'].count(),\\\n",
    "    task_result[(task_result.studentId == i)&(task_result.score>199)]['score'].count(),\\\n",
    "    task_result[(task_result.studentId == i)&(task_result.score>299)]['score'].count(),\\\n",
    "    task_result[(task_result.studentId == i)&(task_result.score>399)]['score'].count(),\\\n",
    "    task_result[(task_result.studentId == i)&(task_result.score>499)]['score'].count(),\\\n",
    "    task_result[task_result.studentId == i]['score'].max(),\\\n",
    "    task_result[task_result.studentId == i]['courseTaskId'].count(),\\\n",
    "    task_result[task_result.studentId == i]['maxScore'].max(),\\\n",
    "    task_result[task_result.studentId == i]['scoreWeight'].mean(),\\\n",
    "    task_result[task_result.studentId == i]['courseEndDate'].max()"
   ]
  },
  {
   "cell_type": "code",
   "execution_count": 29,
   "metadata": {
    "execution": {
     "iopub.execute_input": "2021-03-28T18:42:14.873379Z",
     "iopub.status.busy": "2021-03-28T18:42:14.872340Z",
     "iopub.status.idle": "2021-03-28T18:42:14.877343Z",
     "shell.execute_reply": "2021-03-28T18:42:14.876704Z"
    },
    "papermill": {
     "duration": 0.059908,
     "end_time": "2021-03-28T18:42:14.877509",
     "exception": false,
     "start_time": "2021-03-28T18:42:14.817601",
     "status": "completed"
    },
    "tags": []
   },
   "outputs": [],
   "source": [
    "# заполним отсутствующие значения нулями\n",
    "mean_score_train.fillna(0, inplace=True)\n",
    "mean_score_test.fillna(0, inplace=True)"
   ]
  },
  {
   "cell_type": "code",
   "execution_count": 30,
   "metadata": {
    "execution": {
     "iopub.execute_input": "2021-03-28T18:42:14.989277Z",
     "iopub.status.busy": "2021-03-28T18:42:14.983148Z",
     "iopub.status.idle": "2021-03-28T18:42:15.007803Z",
     "shell.execute_reply": "2021-03-28T18:42:15.007154Z"
    },
    "papermill": {
     "duration": 0.080899,
     "end_time": "2021-03-28T18:42:15.007954",
     "exception": false,
     "start_time": "2021-03-28T18:42:14.927055",
     "status": "completed"
    },
    "tags": []
   },
   "outputs": [],
   "source": [
    "# добавим средний балл и кол-во курсов в тренировочные и тестовые данные\n",
    "train_data = train_data.merge(mean_score_train, how='inner', on='studentId')\n",
    "test_data = test_data.merge(mean_score_test, how='inner', on='studentId')"
   ]
  },
  {
   "cell_type": "code",
   "execution_count": 31,
   "metadata": {
    "execution": {
     "iopub.execute_input": "2021-03-28T18:42:15.115057Z",
     "iopub.status.busy": "2021-03-28T18:42:15.114381Z",
     "iopub.status.idle": "2021-03-28T18:42:15.144291Z",
     "shell.execute_reply": "2021-03-28T18:42:15.143381Z"
    },
    "papermill": {
     "duration": 0.087148,
     "end_time": "2021-03-28T18:42:15.144453",
     "exception": false,
     "start_time": "2021-03-28T18:42:15.057305",
     "status": "completed"
    },
    "tags": []
   },
   "outputs": [
    {
     "data": {
      "text/html": [
       "<div>\n",
       "<style scoped>\n",
       "    .dataframe tbody tr th:only-of-type {\n",
       "        vertical-align: middle;\n",
       "    }\n",
       "\n",
       "    .dataframe tbody tr th {\n",
       "        vertical-align: top;\n",
       "    }\n",
       "\n",
       "    .dataframe thead th {\n",
       "        text-align: right;\n",
       "    }\n",
       "</style>\n",
       "<table border=\"1\" class=\"dataframe\">\n",
       "  <thead>\n",
       "    <tr style=\"text-align: right;\">\n",
       "      <th></th>\n",
       "      <th>studentId</th>\n",
       "      <th>createdDate</th>\n",
       "      <th>updatedDate</th>\n",
       "      <th>isExpelled</th>\n",
       "      <th>isTopPerformer</th>\n",
       "      <th>courseId</th>\n",
       "      <th>userId</th>\n",
       "      <th>isFailed</th>\n",
       "      <th>startDate</th>\n",
       "      <th>mean_score</th>\n",
       "      <th>100_score</th>\n",
       "      <th>200_score</th>\n",
       "      <th>300_score</th>\n",
       "      <th>400_score</th>\n",
       "      <th>500_score</th>\n",
       "      <th>max_score</th>\n",
       "      <th>count_course</th>\n",
       "      <th>real_score</th>\n",
       "      <th>mean_weight</th>\n",
       "      <th>courseEndDate</th>\n",
       "    </tr>\n",
       "  </thead>\n",
       "  <tbody>\n",
       "    <tr>\n",
       "      <th>0</th>\n",
       "      <td>5740</td>\n",
       "      <td>190906</td>\n",
       "      <td>191203</td>\n",
       "      <td>t</td>\n",
       "      <td>True</td>\n",
       "      <td>11</td>\n",
       "      <td>4467</td>\n",
       "      <td>f</td>\n",
       "      <td>190909</td>\n",
       "      <td>82.300000</td>\n",
       "      <td>13.0</td>\n",
       "      <td>0.0</td>\n",
       "      <td>0.0</td>\n",
       "      <td>0.0</td>\n",
       "      <td>0.0</td>\n",
       "      <td>100.0</td>\n",
       "      <td>20.0</td>\n",
       "      <td>100.0</td>\n",
       "      <td>0.174500</td>\n",
       "      <td>200131.0</td>\n",
       "    </tr>\n",
       "    <tr>\n",
       "      <th>1</th>\n",
       "      <td>6956</td>\n",
       "      <td>190909</td>\n",
       "      <td>191120</td>\n",
       "      <td>t</td>\n",
       "      <td>True</td>\n",
       "      <td>11</td>\n",
       "      <td>5580</td>\n",
       "      <td>f</td>\n",
       "      <td>190909</td>\n",
       "      <td>87.176471</td>\n",
       "      <td>13.0</td>\n",
       "      <td>0.0</td>\n",
       "      <td>0.0</td>\n",
       "      <td>0.0</td>\n",
       "      <td>0.0</td>\n",
       "      <td>100.0</td>\n",
       "      <td>17.0</td>\n",
       "      <td>128.0</td>\n",
       "      <td>0.142941</td>\n",
       "      <td>200131.0</td>\n",
       "    </tr>\n",
       "    <tr>\n",
       "      <th>2</th>\n",
       "      <td>11616</td>\n",
       "      <td>200205</td>\n",
       "      <td>200205</td>\n",
       "      <td>f</td>\n",
       "      <td>False</td>\n",
       "      <td>16</td>\n",
       "      <td>9557</td>\n",
       "      <td>f</td>\n",
       "      <td>200205</td>\n",
       "      <td>0.000000</td>\n",
       "      <td>0.0</td>\n",
       "      <td>0.0</td>\n",
       "      <td>0.0</td>\n",
       "      <td>0.0</td>\n",
       "      <td>0.0</td>\n",
       "      <td>0.0</td>\n",
       "      <td>0.0</td>\n",
       "      <td>0.0</td>\n",
       "      <td>0.000000</td>\n",
       "      <td>0.0</td>\n",
       "    </tr>\n",
       "    <tr>\n",
       "      <th>3</th>\n",
       "      <td>11773</td>\n",
       "      <td>200205</td>\n",
       "      <td>200205</td>\n",
       "      <td>f</td>\n",
       "      <td>False</td>\n",
       "      <td>16</td>\n",
       "      <td>9627</td>\n",
       "      <td>f</td>\n",
       "      <td>200205</td>\n",
       "      <td>0.000000</td>\n",
       "      <td>0.0</td>\n",
       "      <td>0.0</td>\n",
       "      <td>0.0</td>\n",
       "      <td>0.0</td>\n",
       "      <td>0.0</td>\n",
       "      <td>0.0</td>\n",
       "      <td>0.0</td>\n",
       "      <td>0.0</td>\n",
       "      <td>0.000000</td>\n",
       "      <td>0.0</td>\n",
       "    </tr>\n",
       "    <tr>\n",
       "      <th>4</th>\n",
       "      <td>6724</td>\n",
       "      <td>190909</td>\n",
       "      <td>200119</td>\n",
       "      <td>t</td>\n",
       "      <td>True</td>\n",
       "      <td>11</td>\n",
       "      <td>5390</td>\n",
       "      <td>f</td>\n",
       "      <td>190909</td>\n",
       "      <td>77.500000</td>\n",
       "      <td>12.0</td>\n",
       "      <td>0.0</td>\n",
       "      <td>0.0</td>\n",
       "      <td>0.0</td>\n",
       "      <td>0.0</td>\n",
       "      <td>110.0</td>\n",
       "      <td>26.0</td>\n",
       "      <td>128.0</td>\n",
       "      <td>0.391923</td>\n",
       "      <td>200131.0</td>\n",
       "    </tr>\n",
       "  </tbody>\n",
       "</table>\n",
       "</div>"
      ],
      "text/plain": [
       "   studentId  createdDate  updatedDate isExpelled  isTopPerformer  courseId  \\\n",
       "0       5740       190906       191203          t            True        11   \n",
       "1       6956       190909       191120          t            True        11   \n",
       "2      11616       200205       200205          f           False        16   \n",
       "3      11773       200205       200205          f           False        16   \n",
       "4       6724       190909       200119          t            True        11   \n",
       "\n",
       "   userId isFailed  startDate  mean_score  100_score  200_score  300_score  \\\n",
       "0    4467        f     190909   82.300000       13.0        0.0        0.0   \n",
       "1    5580        f     190909   87.176471       13.0        0.0        0.0   \n",
       "2    9557        f     200205    0.000000        0.0        0.0        0.0   \n",
       "3    9627        f     200205    0.000000        0.0        0.0        0.0   \n",
       "4    5390        f     190909   77.500000       12.0        0.0        0.0   \n",
       "\n",
       "   400_score  500_score  max_score  count_course  real_score  mean_weight  \\\n",
       "0        0.0        0.0      100.0          20.0       100.0     0.174500   \n",
       "1        0.0        0.0      100.0          17.0       128.0     0.142941   \n",
       "2        0.0        0.0        0.0           0.0         0.0     0.000000   \n",
       "3        0.0        0.0        0.0           0.0         0.0     0.000000   \n",
       "4        0.0        0.0      110.0          26.0       128.0     0.391923   \n",
       "\n",
       "   courseEndDate  \n",
       "0       200131.0  \n",
       "1       200131.0  \n",
       "2            0.0  \n",
       "3            0.0  \n",
       "4       200131.0  "
      ]
     },
     "execution_count": 31,
     "metadata": {},
     "output_type": "execute_result"
    }
   ],
   "source": [
    "train_data.head()"
   ]
  },
  {
   "cell_type": "code",
   "execution_count": 32,
   "metadata": {
    "execution": {
     "iopub.execute_input": "2021-03-28T18:42:15.255142Z",
     "iopub.status.busy": "2021-03-28T18:42:15.253783Z",
     "iopub.status.idle": "2021-03-28T18:42:15.263639Z",
     "shell.execute_reply": "2021-03-28T18:42:15.262907Z"
    },
    "papermill": {
     "duration": 0.068175,
     "end_time": "2021-03-28T18:42:15.263803",
     "exception": false,
     "start_time": "2021-03-28T18:42:15.195628",
     "status": "completed"
    },
    "tags": []
   },
   "outputs": [],
   "source": [
    "#попробуем отбросить колонки со значениями создания и апдейта данных на гитхабе\n",
    "train_data.drop(date_list_task[2:], inplace=True, axis=1)\n",
    "test_data.drop(date_list_task[2:], inplace=True, axis=1)"
   ]
  },
  {
   "cell_type": "code",
   "execution_count": 33,
   "metadata": {
    "execution": {
     "iopub.execute_input": "2021-03-28T18:42:15.388892Z",
     "iopub.status.busy": "2021-03-28T18:42:15.387852Z",
     "iopub.status.idle": "2021-03-28T18:42:15.392847Z",
     "shell.execute_reply": "2021-03-28T18:42:15.391943Z"
    },
    "papermill": {
     "duration": 0.078605,
     "end_time": "2021-03-28T18:42:15.393015",
     "exception": false,
     "start_time": "2021-03-28T18:42:15.314410",
     "status": "completed"
    },
    "tags": []
   },
   "outputs": [],
   "source": [
    "#попробуем отбросить колонки со значениями userId\n",
    "train_data.drop('userId', inplace=True, axis=1)\n",
    "test_data.drop('userId', inplace=True, axis=1)"
   ]
  },
  {
   "cell_type": "code",
   "execution_count": 34,
   "metadata": {
    "execution": {
     "iopub.execute_input": "2021-03-28T18:42:15.516046Z",
     "iopub.status.busy": "2021-03-28T18:42:15.515170Z",
     "iopub.status.idle": "2021-03-28T18:42:15.519235Z",
     "shell.execute_reply": "2021-03-28T18:42:15.518527Z"
    },
    "papermill": {
     "duration": 0.065876,
     "end_time": "2021-03-28T18:42:15.519382",
     "exception": false,
     "start_time": "2021-03-28T18:42:15.453506",
     "status": "completed"
    },
    "tags": []
   },
   "outputs": [],
   "source": [
    "#попробуем отбросить колонки со значениями 'isExpelled', 'isFailed'\n",
    "#train_data.drop(['isExpelled', 'isFailed'], inplace=True, axis=1)\n",
    "#test_data.drop(['isExpelled', 'isFailed'], inplace=True, axis=1)"
   ]
  },
  {
   "cell_type": "code",
   "execution_count": 35,
   "metadata": {
    "execution": {
     "iopub.execute_input": "2021-03-28T18:42:15.638019Z",
     "iopub.status.busy": "2021-03-28T18:42:15.637301Z",
     "iopub.status.idle": "2021-03-28T18:42:15.666977Z",
     "shell.execute_reply": "2021-03-28T18:42:15.666153Z"
    },
    "papermill": {
     "duration": 0.095316,
     "end_time": "2021-03-28T18:42:15.667159",
     "exception": false,
     "start_time": "2021-03-28T18:42:15.571843",
     "status": "completed"
    },
    "tags": []
   },
   "outputs": [],
   "source": [
    "encoder = OrdinalEncoder()\n",
    "train_data[['isExpelled', 'isFailed']] = encoder.fit_transform(train_data[['isExpelled', 'isFailed']])\n",
    "test_data[['isExpelled', 'isFailed']] = encoder.fit_transform(test_data[['isExpelled', 'isFailed']])"
   ]
  },
  {
   "cell_type": "code",
   "execution_count": 36,
   "metadata": {
    "execution": {
     "iopub.execute_input": "2021-03-28T18:42:15.786088Z",
     "iopub.status.busy": "2021-03-28T18:42:15.785100Z",
     "iopub.status.idle": "2021-03-28T18:42:15.791620Z",
     "shell.execute_reply": "2021-03-28T18:42:15.790858Z"
    },
    "papermill": {
     "duration": 0.068599,
     "end_time": "2021-03-28T18:42:15.791778",
     "exception": false,
     "start_time": "2021-03-28T18:42:15.723179",
     "status": "completed"
    },
    "tags": []
   },
   "outputs": [
    {
     "data": {
      "text/plain": [
       "Index(['studentId', 'createdDate', 'updatedDate', 'isExpelled',\n",
       "       'isTopPerformer', 'courseId', 'isFailed', 'startDate', 'mean_score',\n",
       "       '100_score', '200_score', '300_score', '400_score', '500_score',\n",
       "       'max_score', 'count_course', 'real_score', 'mean_weight'],\n",
       "      dtype='object')"
      ]
     },
     "execution_count": 36,
     "metadata": {},
     "output_type": "execute_result"
    }
   ],
   "source": [
    "train_data.columns"
   ]
  },
  {
   "cell_type": "code",
   "execution_count": 37,
   "metadata": {
    "execution": {
     "iopub.execute_input": "2021-03-28T18:42:15.909156Z",
     "iopub.status.busy": "2021-03-28T18:42:15.908360Z",
     "iopub.status.idle": "2021-03-28T18:42:16.679494Z",
     "shell.execute_reply": "2021-03-28T18:42:16.678088Z"
    },
    "papermill": {
     "duration": 0.832872,
     "end_time": "2021-03-28T18:42:16.679692",
     "exception": false,
     "start_time": "2021-03-28T18:42:15.846820",
     "status": "completed"
    },
    "tags": []
   },
   "outputs": [
    {
     "data": {
      "text/plain": [
       "<AxesSubplot:ylabel='mean_score'>"
      ]
     },
     "execution_count": 37,
     "metadata": {},
     "output_type": "execute_result"
    },
    {
     "data": {
      "image/png": "[encoded data removed]",
      "text/plain": [
       "<Figure size 432x288 with 1 Axes>"
      ]
     },
     "metadata": {
      "needs_background": "light"
     },
     "output_type": "display_data"
    }
   ],
   "source": [
    "sns.lineplot(y=train_data[train_data.isTopPerformer == False]['mean_score'], x=train_data[train_data.isTopPerformer == False].index)\n",
    "sns.lineplot(y=train_data[train_data.isTopPerformer == True]['mean_score'], x=train_data[train_data.isTopPerformer == True].index)"
   ]
  },
  {
   "cell_type": "code",
   "execution_count": 38,
   "metadata": {
    "execution": {
     "iopub.execute_input": "2021-03-28T18:42:16.810694Z",
     "iopub.status.busy": "2021-03-28T18:42:16.809814Z",
     "iopub.status.idle": "2021-03-28T18:42:16.882219Z",
     "shell.execute_reply": "2021-03-28T18:42:16.881613Z"
    },
    "papermill": {
     "duration": 0.141607,
     "end_time": "2021-03-28T18:42:16.882369",
     "exception": false,
     "start_time": "2021-03-28T18:42:16.740762",
     "status": "completed"
    },
    "tags": []
   },
   "outputs": [
    {
     "data": {
      "text/html": [
       "<div>\n",
       "<style scoped>\n",
       "    .dataframe tbody tr th:only-of-type {\n",
       "        vertical-align: middle;\n",
       "    }\n",
       "\n",
       "    .dataframe tbody tr th {\n",
       "        vertical-align: top;\n",
       "    }\n",
       "\n",
       "    .dataframe thead th {\n",
       "        text-align: right;\n",
       "    }\n",
       "</style>\n",
       "<table border=\"1\" class=\"dataframe\">\n",
       "  <thead>\n",
       "    <tr style=\"text-align: right;\">\n",
       "      <th></th>\n",
       "      <th>studentId</th>\n",
       "      <th>createdDate</th>\n",
       "      <th>updatedDate</th>\n",
       "      <th>isExpelled</th>\n",
       "      <th>courseId</th>\n",
       "      <th>isFailed</th>\n",
       "      <th>startDate</th>\n",
       "      <th>mean_score</th>\n",
       "      <th>100_score</th>\n",
       "      <th>200_score</th>\n",
       "      <th>300_score</th>\n",
       "      <th>400_score</th>\n",
       "      <th>500_score</th>\n",
       "      <th>max_score</th>\n",
       "      <th>count_course</th>\n",
       "      <th>real_score</th>\n",
       "      <th>mean_weight</th>\n",
       "    </tr>\n",
       "  </thead>\n",
       "  <tbody>\n",
       "    <tr>\n",
       "      <th>count</th>\n",
       "      <td>10471.000000</td>\n",
       "      <td>10471.000000</td>\n",
       "      <td>10471.000000</td>\n",
       "      <td>10471.000000</td>\n",
       "      <td>10471.000000</td>\n",
       "      <td>10471.000000</td>\n",
       "      <td>10471.000000</td>\n",
       "      <td>10471.000000</td>\n",
       "      <td>10471.000000</td>\n",
       "      <td>10471.000000</td>\n",
       "      <td>10471.000000</td>\n",
       "      <td>10471.000000</td>\n",
       "      <td>10471.000000</td>\n",
       "      <td>1.047100e+04</td>\n",
       "      <td>10471.000000</td>\n",
       "      <td>10471.000000</td>\n",
       "      <td>10471.000000</td>\n",
       "    </tr>\n",
       "    <tr>\n",
       "      <th>mean</th>\n",
       "      <td>7524.024448</td>\n",
       "      <td>194676.864005</td>\n",
       "      <td>195375.121860</td>\n",
       "      <td>0.646452</td>\n",
       "      <td>10.124248</td>\n",
       "      <td>0.137045</td>\n",
       "      <td>195530.736606</td>\n",
       "      <td>141.917905</td>\n",
       "      <td>3.598224</td>\n",
       "      <td>0.369019</td>\n",
       "      <td>0.105912</td>\n",
       "      <td>0.085570</td>\n",
       "      <td>0.068666</td>\n",
       "      <td>1.498156e+03</td>\n",
       "      <td>7.656671</td>\n",
       "      <td>123.642346</td>\n",
       "      <td>0.319933</td>\n",
       "    </tr>\n",
       "    <tr>\n",
       "      <th>std</th>\n",
       "      <td>4293.014788</td>\n",
       "      <td>4709.443432</td>\n",
       "      <td>4953.645634</td>\n",
       "      <td>0.478094</td>\n",
       "      <td>5.987661</td>\n",
       "      <td>0.343911</td>\n",
       "      <td>40186.944942</td>\n",
       "      <td>2137.133173</td>\n",
       "      <td>7.370031</td>\n",
       "      <td>1.401599</td>\n",
       "      <td>0.592821</td>\n",
       "      <td>0.529667</td>\n",
       "      <td>0.445248</td>\n",
       "      <td>3.066291e+04</td>\n",
       "      <td>13.027532</td>\n",
       "      <td>236.617973</td>\n",
       "      <td>0.722370</td>\n",
       "    </tr>\n",
       "    <tr>\n",
       "      <th>min</th>\n",
       "      <td>1.000000</td>\n",
       "      <td>190418.000000</td>\n",
       "      <td>190422.000000</td>\n",
       "      <td>0.000000</td>\n",
       "      <td>1.000000</td>\n",
       "      <td>0.000000</td>\n",
       "      <td>150101.000000</td>\n",
       "      <td>0.000000</td>\n",
       "      <td>0.000000</td>\n",
       "      <td>0.000000</td>\n",
       "      <td>0.000000</td>\n",
       "      <td>0.000000</td>\n",
       "      <td>0.000000</td>\n",
       "      <td>0.000000e+00</td>\n",
       "      <td>0.000000</td>\n",
       "      <td>0.000000</td>\n",
       "      <td>0.000000</td>\n",
       "    </tr>\n",
       "    <tr>\n",
       "      <th>25%</th>\n",
       "      <td>3108.500000</td>\n",
       "      <td>190503.000000</td>\n",
       "      <td>190805.000000</td>\n",
       "      <td>0.000000</td>\n",
       "      <td>2.000000</td>\n",
       "      <td>0.000000</td>\n",
       "      <td>190101.000000</td>\n",
       "      <td>0.000000</td>\n",
       "      <td>0.000000</td>\n",
       "      <td>0.000000</td>\n",
       "      <td>0.000000</td>\n",
       "      <td>0.000000</td>\n",
       "      <td>0.000000</td>\n",
       "      <td>0.000000e+00</td>\n",
       "      <td>0.000000</td>\n",
       "      <td>0.000000</td>\n",
       "      <td>0.000000</td>\n",
       "    </tr>\n",
       "    <tr>\n",
       "      <th>50%</th>\n",
       "      <td>7962.000000</td>\n",
       "      <td>190912.000000</td>\n",
       "      <td>191120.000000</td>\n",
       "      <td>1.000000</td>\n",
       "      <td>11.000000</td>\n",
       "      <td>0.000000</td>\n",
       "      <td>190909.000000</td>\n",
       "      <td>44.900000</td>\n",
       "      <td>0.000000</td>\n",
       "      <td>0.000000</td>\n",
       "      <td>0.000000</td>\n",
       "      <td>0.000000</td>\n",
       "      <td>0.000000</td>\n",
       "      <td>8.400000e+01</td>\n",
       "      <td>2.000000</td>\n",
       "      <td>100.000000</td>\n",
       "      <td>0.018000</td>\n",
       "    </tr>\n",
       "    <tr>\n",
       "      <th>75%</th>\n",
       "      <td>11153.500000</td>\n",
       "      <td>200204.000000</td>\n",
       "      <td>200802.000000</td>\n",
       "      <td>1.000000</td>\n",
       "      <td>13.000000</td>\n",
       "      <td>0.000000</td>\n",
       "      <td>200204.000000</td>\n",
       "      <td>80.000000</td>\n",
       "      <td>3.000000</td>\n",
       "      <td>0.000000</td>\n",
       "      <td>0.000000</td>\n",
       "      <td>0.000000</td>\n",
       "      <td>0.000000</td>\n",
       "      <td>1.000000e+02</td>\n",
       "      <td>10.000000</td>\n",
       "      <td>100.000000</td>\n",
       "      <td>0.467419</td>\n",
       "    </tr>\n",
       "    <tr>\n",
       "      <th>max</th>\n",
       "      <td>22877.000000</td>\n",
       "      <td>201004.000000</td>\n",
       "      <td>201013.000000</td>\n",
       "      <td>1.000000</td>\n",
       "      <td>27.000000</td>\n",
       "      <td>1.000000</td>\n",
       "      <td>700101.000000</td>\n",
       "      <td>86710.333333</td>\n",
       "      <td>62.000000</td>\n",
       "      <td>13.000000</td>\n",
       "      <td>7.000000</td>\n",
       "      <td>7.000000</td>\n",
       "      <td>7.000000</td>\n",
       "      <td>1.188820e+06</td>\n",
       "      <td>79.000000</td>\n",
       "      <td>1500.000000</td>\n",
       "      <td>10.000000</td>\n",
       "    </tr>\n",
       "  </tbody>\n",
       "</table>\n",
       "</div>"
      ],
      "text/plain": [
       "          studentId    createdDate    updatedDate    isExpelled      courseId  \\\n",
       "count  10471.000000   10471.000000   10471.000000  10471.000000  10471.000000   \n",
       "mean    7524.024448  194676.864005  195375.121860      0.646452     10.124248   \n",
       "std     4293.014788    4709.443432    4953.645634      0.478094      5.987661   \n",
       "min        1.000000  190418.000000  190422.000000      0.000000      1.000000   \n",
       "25%     3108.500000  190503.000000  190805.000000      0.000000      2.000000   \n",
       "50%     7962.000000  190912.000000  191120.000000      1.000000     11.000000   \n",
       "75%    11153.500000  200204.000000  200802.000000      1.000000     13.000000   \n",
       "max    22877.000000  201004.000000  201013.000000      1.000000     27.000000   \n",
       "\n",
       "           isFailed      startDate    mean_score     100_score     200_score  \\\n",
       "count  10471.000000   10471.000000  10471.000000  10471.000000  10471.000000   \n",
       "mean       0.137045  195530.736606    141.917905      3.598224      0.369019   \n",
       "std        0.343911   40186.944942   2137.133173      7.370031      1.401599   \n",
       "min        0.000000  150101.000000      0.000000      0.000000      0.000000   \n",
       "25%        0.000000  190101.000000      0.000000      0.000000      0.000000   \n",
       "50%        0.000000  190909.000000     44.900000      0.000000      0.000000   \n",
       "75%        0.000000  200204.000000     80.000000      3.000000      0.000000   \n",
       "max        1.000000  700101.000000  86710.333333     62.000000     13.000000   \n",
       "\n",
       "          300_score     400_score     500_score     max_score  count_course  \\\n",
       "count  10471.000000  10471.000000  10471.000000  1.047100e+04  10471.000000   \n",
       "mean       0.105912      0.085570      0.068666  1.498156e+03      7.656671   \n",
       "std        0.592821      0.529667      0.445248  3.066291e+04     13.027532   \n",
       "min        0.000000      0.000000      0.000000  0.000000e+00      0.000000   \n",
       "25%        0.000000      0.000000      0.000000  0.000000e+00      0.000000   \n",
       "50%        0.000000      0.000000      0.000000  8.400000e+01      2.000000   \n",
       "75%        0.000000      0.000000      0.000000  1.000000e+02     10.000000   \n",
       "max        7.000000      7.000000      7.000000  1.188820e+06     79.000000   \n",
       "\n",
       "         real_score   mean_weight  \n",
       "count  10471.000000  10471.000000  \n",
       "mean     123.642346      0.319933  \n",
       "std      236.617973      0.722370  \n",
       "min        0.000000      0.000000  \n",
       "25%        0.000000      0.000000  \n",
       "50%      100.000000      0.018000  \n",
       "75%      100.000000      0.467419  \n",
       "max     1500.000000     10.000000  "
      ]
     },
     "execution_count": 38,
     "metadata": {},
     "output_type": "execute_result"
    }
   ],
   "source": [
    "train_data.describe()"
   ]
  },
  {
   "cell_type": "code",
   "execution_count": 39,
   "metadata": {
    "execution": {
     "iopub.execute_input": "2021-03-28T18:42:17.014933Z",
     "iopub.status.busy": "2021-03-28T18:42:17.004380Z",
     "iopub.status.idle": "2021-03-28T18:42:17.028926Z",
     "shell.execute_reply": "2021-03-28T18:42:17.027997Z"
    },
    "papermill": {
     "duration": 0.092799,
     "end_time": "2021-03-28T18:42:17.029109",
     "exception": false,
     "start_time": "2021-03-28T18:42:16.936310",
     "status": "completed"
    },
    "tags": []
   },
   "outputs": [
    {
     "data": {
      "text/html": [
       "<div>\n",
       "<style scoped>\n",
       "    .dataframe tbody tr th:only-of-type {\n",
       "        vertical-align: middle;\n",
       "    }\n",
       "\n",
       "    .dataframe tbody tr th {\n",
       "        vertical-align: top;\n",
       "    }\n",
       "\n",
       "    .dataframe thead th {\n",
       "        text-align: right;\n",
       "    }\n",
       "</style>\n",
       "<table border=\"1\" class=\"dataframe\">\n",
       "  <thead>\n",
       "    <tr style=\"text-align: right;\">\n",
       "      <th></th>\n",
       "      <th>studentId</th>\n",
       "      <th>createdDate</th>\n",
       "      <th>updatedDate</th>\n",
       "      <th>isExpelled</th>\n",
       "      <th>courseId</th>\n",
       "      <th>isFailed</th>\n",
       "      <th>startDate</th>\n",
       "      <th>mean_score</th>\n",
       "      <th>100_score</th>\n",
       "      <th>200_score</th>\n",
       "      <th>300_score</th>\n",
       "      <th>400_score</th>\n",
       "      <th>500_score</th>\n",
       "      <th>max_score</th>\n",
       "      <th>count_course</th>\n",
       "      <th>real_score</th>\n",
       "      <th>mean_weight</th>\n",
       "    </tr>\n",
       "  </thead>\n",
       "  <tbody>\n",
       "    <tr>\n",
       "      <th>0</th>\n",
       "      <td>11450</td>\n",
       "      <td>200205</td>\n",
       "      <td>200401</td>\n",
       "      <td>0.0</td>\n",
       "      <td>16</td>\n",
       "      <td>0.0</td>\n",
       "      <td>200205</td>\n",
       "      <td>224.500000</td>\n",
       "      <td>6.0</td>\n",
       "      <td>6.0</td>\n",
       "      <td>0.0</td>\n",
       "      <td>0.0</td>\n",
       "      <td>0.0</td>\n",
       "      <td>230.0</td>\n",
       "      <td>6.0</td>\n",
       "      <td>230.0</td>\n",
       "      <td>1.000000</td>\n",
       "    </tr>\n",
       "    <tr>\n",
       "      <th>1</th>\n",
       "      <td>7855</td>\n",
       "      <td>190911</td>\n",
       "      <td>191120</td>\n",
       "      <td>0.0</td>\n",
       "      <td>11</td>\n",
       "      <td>0.0</td>\n",
       "      <td>190909</td>\n",
       "      <td>80.722222</td>\n",
       "      <td>11.0</td>\n",
       "      <td>0.0</td>\n",
       "      <td>0.0</td>\n",
       "      <td>0.0</td>\n",
       "      <td>0.0</td>\n",
       "      <td>100.0</td>\n",
       "      <td>18.0</td>\n",
       "      <td>100.0</td>\n",
       "      <td>0.082778</td>\n",
       "    </tr>\n",
       "    <tr>\n",
       "      <th>2</th>\n",
       "      <td>12753</td>\n",
       "      <td>200217</td>\n",
       "      <td>201013</td>\n",
       "      <td>0.0</td>\n",
       "      <td>19</td>\n",
       "      <td>0.0</td>\n",
       "      <td>200217</td>\n",
       "      <td>100.000000</td>\n",
       "      <td>1.0</td>\n",
       "      <td>0.0</td>\n",
       "      <td>0.0</td>\n",
       "      <td>0.0</td>\n",
       "      <td>0.0</td>\n",
       "      <td>100.0</td>\n",
       "      <td>1.0</td>\n",
       "      <td>100.0</td>\n",
       "      <td>1.000000</td>\n",
       "    </tr>\n",
       "    <tr>\n",
       "      <th>3</th>\n",
       "      <td>14717</td>\n",
       "      <td>200718</td>\n",
       "      <td>200929</td>\n",
       "      <td>0.0</td>\n",
       "      <td>28</td>\n",
       "      <td>0.0</td>\n",
       "      <td>200718</td>\n",
       "      <td>0.000000</td>\n",
       "      <td>0.0</td>\n",
       "      <td>0.0</td>\n",
       "      <td>0.0</td>\n",
       "      <td>0.0</td>\n",
       "      <td>0.0</td>\n",
       "      <td>0.0</td>\n",
       "      <td>0.0</td>\n",
       "      <td>0.0</td>\n",
       "      <td>0.000000</td>\n",
       "    </tr>\n",
       "    <tr>\n",
       "      <th>4</th>\n",
       "      <td>7455</td>\n",
       "      <td>190910</td>\n",
       "      <td>200120</td>\n",
       "      <td>0.0</td>\n",
       "      <td>11</td>\n",
       "      <td>0.0</td>\n",
       "      <td>190909</td>\n",
       "      <td>99.166667</td>\n",
       "      <td>18.0</td>\n",
       "      <td>2.0</td>\n",
       "      <td>0.0</td>\n",
       "      <td>0.0</td>\n",
       "      <td>0.0</td>\n",
       "      <td>248.0</td>\n",
       "      <td>36.0</td>\n",
       "      <td>280.0</td>\n",
       "      <td>0.474722</td>\n",
       "    </tr>\n",
       "  </tbody>\n",
       "</table>\n",
       "</div>"
      ],
      "text/plain": [
       "   studentId  createdDate  updatedDate  isExpelled  courseId  isFailed  \\\n",
       "0      11450       200205       200401         0.0        16       0.0   \n",
       "1       7855       190911       191120         0.0        11       0.0   \n",
       "2      12753       200217       201013         0.0        19       0.0   \n",
       "3      14717       200718       200929         0.0        28       0.0   \n",
       "4       7455       190910       200120         0.0        11       0.0   \n",
       "\n",
       "   startDate  mean_score  100_score  200_score  300_score  400_score  \\\n",
       "0     200205  224.500000        6.0        6.0        0.0        0.0   \n",
       "1     190909   80.722222       11.0        0.0        0.0        0.0   \n",
       "2     200217  100.000000        1.0        0.0        0.0        0.0   \n",
       "3     200718    0.000000        0.0        0.0        0.0        0.0   \n",
       "4     190909   99.166667       18.0        2.0        0.0        0.0   \n",
       "\n",
       "   500_score  max_score  count_course  real_score  mean_weight  \n",
       "0        0.0      230.0           6.0       230.0     1.000000  \n",
       "1        0.0      100.0          18.0       100.0     0.082778  \n",
       "2        0.0      100.0           1.0       100.0     1.000000  \n",
       "3        0.0        0.0           0.0         0.0     0.000000  \n",
       "4        0.0      248.0          36.0       280.0     0.474722  "
      ]
     },
     "execution_count": 39,
     "metadata": {},
     "output_type": "execute_result"
    }
   ],
   "source": [
    "test_data.head()"
   ]
  },
  {
   "cell_type": "code",
   "execution_count": 40,
   "metadata": {
    "execution": {
     "iopub.execute_input": "2021-03-28T18:42:17.152135Z",
     "iopub.status.busy": "2021-03-28T18:42:17.150791Z",
     "iopub.status.idle": "2021-03-28T18:42:17.155019Z",
     "shell.execute_reply": "2021-03-28T18:42:17.154407Z"
    },
    "papermill": {
     "duration": 0.069017,
     "end_time": "2021-03-28T18:42:17.155173",
     "exception": false,
     "start_time": "2021-03-28T18:42:17.086156",
     "status": "completed"
    },
    "tags": []
   },
   "outputs": [],
   "source": [
    "#попробуем отбросить колонки \n",
    "#drop_train = train_data.drop(['studentId', 'courseId', 'startDate'], axis=1)\n",
    "#drop_test = test_data.drop(['studentId', 'courseId', 'startDate'], axis=1)\n",
    "#drop_train = train_data.drop(['courseId'], axis=1)\n",
    "#drop_test = test_data.drop(['courseId'], axis=1)\n",
    "drop_train = train_data\n",
    "drop_test = test_data"
   ]
  },
  {
   "cell_type": "code",
   "execution_count": 41,
   "metadata": {
    "execution": {
     "iopub.execute_input": "2021-03-28T18:42:17.271823Z",
     "iopub.status.busy": "2021-03-28T18:42:17.270749Z",
     "iopub.status.idle": "2021-03-28T18:42:17.335833Z",
     "shell.execute_reply": "2021-03-28T18:42:17.334985Z"
    },
    "papermill": {
     "duration": 0.12703,
     "end_time": "2021-03-28T18:42:17.335979",
     "exception": false,
     "start_time": "2021-03-28T18:42:17.208949",
     "status": "completed"
    },
    "tags": []
   },
   "outputs": [
    {
     "data": {
      "text/html": [
       "<div>\n",
       "<style scoped>\n",
       "    .dataframe tbody tr th:only-of-type {\n",
       "        vertical-align: middle;\n",
       "    }\n",
       "\n",
       "    .dataframe tbody tr th {\n",
       "        vertical-align: top;\n",
       "    }\n",
       "\n",
       "    .dataframe thead th {\n",
       "        text-align: right;\n",
       "    }\n",
       "</style>\n",
       "<table border=\"1\" class=\"dataframe\">\n",
       "  <thead>\n",
       "    <tr style=\"text-align: right;\">\n",
       "      <th></th>\n",
       "      <th>studentId</th>\n",
       "      <th>createdDate</th>\n",
       "      <th>updatedDate</th>\n",
       "      <th>isExpelled</th>\n",
       "      <th>courseId</th>\n",
       "      <th>isFailed</th>\n",
       "      <th>startDate</th>\n",
       "      <th>mean_score</th>\n",
       "      <th>100_score</th>\n",
       "      <th>200_score</th>\n",
       "      <th>300_score</th>\n",
       "      <th>400_score</th>\n",
       "      <th>500_score</th>\n",
       "      <th>max_score</th>\n",
       "      <th>count_course</th>\n",
       "      <th>real_score</th>\n",
       "      <th>mean_weight</th>\n",
       "    </tr>\n",
       "  </thead>\n",
       "  <tbody>\n",
       "    <tr>\n",
       "      <th>count</th>\n",
       "      <td>10471.000000</td>\n",
       "      <td>10471.000000</td>\n",
       "      <td>10471.000000</td>\n",
       "      <td>10471.000000</td>\n",
       "      <td>10471.000000</td>\n",
       "      <td>10471.000000</td>\n",
       "      <td>10471.000000</td>\n",
       "      <td>10471.000000</td>\n",
       "      <td>10471.000000</td>\n",
       "      <td>10471.000000</td>\n",
       "      <td>10471.000000</td>\n",
       "      <td>10471.000000</td>\n",
       "      <td>10471.000000</td>\n",
       "      <td>1.047100e+04</td>\n",
       "      <td>10471.000000</td>\n",
       "      <td>10471.000000</td>\n",
       "      <td>10471.000000</td>\n",
       "    </tr>\n",
       "    <tr>\n",
       "      <th>mean</th>\n",
       "      <td>7524.024448</td>\n",
       "      <td>194676.864005</td>\n",
       "      <td>195375.121860</td>\n",
       "      <td>0.646452</td>\n",
       "      <td>10.124248</td>\n",
       "      <td>0.137045</td>\n",
       "      <td>195530.736606</td>\n",
       "      <td>141.917905</td>\n",
       "      <td>3.598224</td>\n",
       "      <td>0.369019</td>\n",
       "      <td>0.105912</td>\n",
       "      <td>0.085570</td>\n",
       "      <td>0.068666</td>\n",
       "      <td>1.498156e+03</td>\n",
       "      <td>7.656671</td>\n",
       "      <td>123.642346</td>\n",
       "      <td>0.319933</td>\n",
       "    </tr>\n",
       "    <tr>\n",
       "      <th>std</th>\n",
       "      <td>4293.014788</td>\n",
       "      <td>4709.443432</td>\n",
       "      <td>4953.645634</td>\n",
       "      <td>0.478094</td>\n",
       "      <td>5.987661</td>\n",
       "      <td>0.343911</td>\n",
       "      <td>40186.944942</td>\n",
       "      <td>2137.133173</td>\n",
       "      <td>7.370031</td>\n",
       "      <td>1.401599</td>\n",
       "      <td>0.592821</td>\n",
       "      <td>0.529667</td>\n",
       "      <td>0.445248</td>\n",
       "      <td>3.066291e+04</td>\n",
       "      <td>13.027532</td>\n",
       "      <td>236.617973</td>\n",
       "      <td>0.722370</td>\n",
       "    </tr>\n",
       "    <tr>\n",
       "      <th>min</th>\n",
       "      <td>1.000000</td>\n",
       "      <td>190418.000000</td>\n",
       "      <td>190422.000000</td>\n",
       "      <td>0.000000</td>\n",
       "      <td>1.000000</td>\n",
       "      <td>0.000000</td>\n",
       "      <td>150101.000000</td>\n",
       "      <td>0.000000</td>\n",
       "      <td>0.000000</td>\n",
       "      <td>0.000000</td>\n",
       "      <td>0.000000</td>\n",
       "      <td>0.000000</td>\n",
       "      <td>0.000000</td>\n",
       "      <td>0.000000e+00</td>\n",
       "      <td>0.000000</td>\n",
       "      <td>0.000000</td>\n",
       "      <td>0.000000</td>\n",
       "    </tr>\n",
       "    <tr>\n",
       "      <th>25%</th>\n",
       "      <td>3108.500000</td>\n",
       "      <td>190503.000000</td>\n",
       "      <td>190805.000000</td>\n",
       "      <td>0.000000</td>\n",
       "      <td>2.000000</td>\n",
       "      <td>0.000000</td>\n",
       "      <td>190101.000000</td>\n",
       "      <td>0.000000</td>\n",
       "      <td>0.000000</td>\n",
       "      <td>0.000000</td>\n",
       "      <td>0.000000</td>\n",
       "      <td>0.000000</td>\n",
       "      <td>0.000000</td>\n",
       "      <td>0.000000e+00</td>\n",
       "      <td>0.000000</td>\n",
       "      <td>0.000000</td>\n",
       "      <td>0.000000</td>\n",
       "    </tr>\n",
       "    <tr>\n",
       "      <th>50%</th>\n",
       "      <td>7962.000000</td>\n",
       "      <td>190912.000000</td>\n",
       "      <td>191120.000000</td>\n",
       "      <td>1.000000</td>\n",
       "      <td>11.000000</td>\n",
       "      <td>0.000000</td>\n",
       "      <td>190909.000000</td>\n",
       "      <td>44.900000</td>\n",
       "      <td>0.000000</td>\n",
       "      <td>0.000000</td>\n",
       "      <td>0.000000</td>\n",
       "      <td>0.000000</td>\n",
       "      <td>0.000000</td>\n",
       "      <td>8.400000e+01</td>\n",
       "      <td>2.000000</td>\n",
       "      <td>100.000000</td>\n",
       "      <td>0.018000</td>\n",
       "    </tr>\n",
       "    <tr>\n",
       "      <th>75%</th>\n",
       "      <td>11153.500000</td>\n",
       "      <td>200204.000000</td>\n",
       "      <td>200802.000000</td>\n",
       "      <td>1.000000</td>\n",
       "      <td>13.000000</td>\n",
       "      <td>0.000000</td>\n",
       "      <td>200204.000000</td>\n",
       "      <td>80.000000</td>\n",
       "      <td>3.000000</td>\n",
       "      <td>0.000000</td>\n",
       "      <td>0.000000</td>\n",
       "      <td>0.000000</td>\n",
       "      <td>0.000000</td>\n",
       "      <td>1.000000e+02</td>\n",
       "      <td>10.000000</td>\n",
       "      <td>100.000000</td>\n",
       "      <td>0.467419</td>\n",
       "    </tr>\n",
       "    <tr>\n",
       "      <th>max</th>\n",
       "      <td>22877.000000</td>\n",
       "      <td>201004.000000</td>\n",
       "      <td>201013.000000</td>\n",
       "      <td>1.000000</td>\n",
       "      <td>27.000000</td>\n",
       "      <td>1.000000</td>\n",
       "      <td>700101.000000</td>\n",
       "      <td>86710.333333</td>\n",
       "      <td>62.000000</td>\n",
       "      <td>13.000000</td>\n",
       "      <td>7.000000</td>\n",
       "      <td>7.000000</td>\n",
       "      <td>7.000000</td>\n",
       "      <td>1.188820e+06</td>\n",
       "      <td>79.000000</td>\n",
       "      <td>1500.000000</td>\n",
       "      <td>10.000000</td>\n",
       "    </tr>\n",
       "  </tbody>\n",
       "</table>\n",
       "</div>"
      ],
      "text/plain": [
       "          studentId    createdDate    updatedDate    isExpelled      courseId  \\\n",
       "count  10471.000000   10471.000000   10471.000000  10471.000000  10471.000000   \n",
       "mean    7524.024448  194676.864005  195375.121860      0.646452     10.124248   \n",
       "std     4293.014788    4709.443432    4953.645634      0.478094      5.987661   \n",
       "min        1.000000  190418.000000  190422.000000      0.000000      1.000000   \n",
       "25%     3108.500000  190503.000000  190805.000000      0.000000      2.000000   \n",
       "50%     7962.000000  190912.000000  191120.000000      1.000000     11.000000   \n",
       "75%    11153.500000  200204.000000  200802.000000      1.000000     13.000000   \n",
       "max    22877.000000  201004.000000  201013.000000      1.000000     27.000000   \n",
       "\n",
       "           isFailed      startDate    mean_score     100_score     200_score  \\\n",
       "count  10471.000000   10471.000000  10471.000000  10471.000000  10471.000000   \n",
       "mean       0.137045  195530.736606    141.917905      3.598224      0.369019   \n",
       "std        0.343911   40186.944942   2137.133173      7.370031      1.401599   \n",
       "min        0.000000  150101.000000      0.000000      0.000000      0.000000   \n",
       "25%        0.000000  190101.000000      0.000000      0.000000      0.000000   \n",
       "50%        0.000000  190909.000000     44.900000      0.000000      0.000000   \n",
       "75%        0.000000  200204.000000     80.000000      3.000000      0.000000   \n",
       "max        1.000000  700101.000000  86710.333333     62.000000     13.000000   \n",
       "\n",
       "          300_score     400_score     500_score     max_score  count_course  \\\n",
       "count  10471.000000  10471.000000  10471.000000  1.047100e+04  10471.000000   \n",
       "mean       0.105912      0.085570      0.068666  1.498156e+03      7.656671   \n",
       "std        0.592821      0.529667      0.445248  3.066291e+04     13.027532   \n",
       "min        0.000000      0.000000      0.000000  0.000000e+00      0.000000   \n",
       "25%        0.000000      0.000000      0.000000  0.000000e+00      0.000000   \n",
       "50%        0.000000      0.000000      0.000000  8.400000e+01      2.000000   \n",
       "75%        0.000000      0.000000      0.000000  1.000000e+02     10.000000   \n",
       "max        7.000000      7.000000      7.000000  1.188820e+06     79.000000   \n",
       "\n",
       "         real_score   mean_weight  \n",
       "count  10471.000000  10471.000000  \n",
       "mean     123.642346      0.319933  \n",
       "std      236.617973      0.722370  \n",
       "min        0.000000      0.000000  \n",
       "25%        0.000000      0.000000  \n",
       "50%      100.000000      0.018000  \n",
       "75%      100.000000      0.467419  \n",
       "max     1500.000000     10.000000  "
      ]
     },
     "execution_count": 41,
     "metadata": {},
     "output_type": "execute_result"
    }
   ],
   "source": [
    "# посмотрим на подготовленные данные\n",
    "drop_train.describe()"
   ]
  },
  {
   "cell_type": "code",
   "execution_count": 42,
   "metadata": {
    "execution": {
     "iopub.execute_input": "2021-03-28T18:42:17.462521Z",
     "iopub.status.busy": "2021-03-28T18:42:17.459257Z",
     "iopub.status.idle": "2021-03-28T18:42:17.468310Z",
     "shell.execute_reply": "2021-03-28T18:42:17.467628Z"
    },
    "papermill": {
     "duration": 0.072527,
     "end_time": "2021-03-28T18:42:17.468456",
     "exception": false,
     "start_time": "2021-03-28T18:42:17.395929",
     "status": "completed"
    },
    "tags": []
   },
   "outputs": [
    {
     "data": {
      "text/plain": [
       "studentId         0\n",
       "createdDate       0\n",
       "updatedDate       0\n",
       "isExpelled        0\n",
       "isTopPerformer    0\n",
       "courseId          0\n",
       "isFailed          0\n",
       "startDate         0\n",
       "mean_score        0\n",
       "100_score         0\n",
       "200_score         0\n",
       "300_score         0\n",
       "400_score         0\n",
       "500_score         0\n",
       "max_score         0\n",
       "count_course      0\n",
       "real_score        0\n",
       "mean_weight       0\n",
       "dtype: int64"
      ]
     },
     "execution_count": 42,
     "metadata": {},
     "output_type": "execute_result"
    }
   ],
   "source": [
    "drop_train.isna().sum()"
   ]
  },
  {
   "cell_type": "code",
   "execution_count": 43,
   "metadata": {
    "execution": {
     "iopub.execute_input": "2021-03-28T18:42:17.589037Z",
     "iopub.status.busy": "2021-03-28T18:42:17.587949Z",
     "iopub.status.idle": "2021-03-28T18:42:17.591422Z",
     "shell.execute_reply": "2021-03-28T18:42:17.590735Z"
    },
    "papermill": {
     "duration": 0.066681,
     "end_time": "2021-03-28T18:42:17.591575",
     "exception": false,
     "start_time": "2021-03-28T18:42:17.524894",
     "status": "completed"
    },
    "tags": []
   },
   "outputs": [],
   "source": [
    "# разделим искомое значение и тренировочные данные\n",
    "y = drop_train['isTopPerformer']\n",
    "drop_train = drop_train.drop('isTopPerformer', axis=1)"
   ]
  },
  {
   "cell_type": "code",
   "execution_count": 44,
   "metadata": {
    "execution": {
     "iopub.execute_input": "2021-03-28T18:42:17.712665Z",
     "iopub.status.busy": "2021-03-28T18:42:17.711910Z",
     "iopub.status.idle": "2021-03-28T18:42:17.716324Z",
     "shell.execute_reply": "2021-03-28T18:42:17.715745Z"
    },
    "papermill": {
     "duration": 0.068989,
     "end_time": "2021-03-28T18:42:17.716897",
     "exception": false,
     "start_time": "2021-03-28T18:42:17.647908",
     "status": "completed"
    },
    "tags": []
   },
   "outputs": [],
   "source": [
    "# Select categorical columns in training and testing data\n",
    "cat_cols = [cname for cname in drop_train.columns if\n",
    "                    drop_train[cname].dtype == \"object\"]\n",
    "num_cols = [cname for cname in drop_train.columns if \n",
    "                drop_train[cname].dtype in ['int64', 'float64']]"
   ]
  },
  {
   "cell_type": "code",
   "execution_count": 45,
   "metadata": {
    "execution": {
     "iopub.execute_input": "2021-03-28T18:42:17.852855Z",
     "iopub.status.busy": "2021-03-28T18:42:17.851779Z",
     "iopub.status.idle": "2021-03-28T18:42:17.857805Z",
     "shell.execute_reply": "2021-03-28T18:42:17.858472Z"
    },
    "papermill": {
     "duration": 0.078602,
     "end_time": "2021-03-28T18:42:17.858738",
     "exception": false,
     "start_time": "2021-03-28T18:42:17.780136",
     "status": "completed"
    },
    "tags": []
   },
   "outputs": [
    {
     "data": {
      "text/plain": [
       "([],\n",
       " ['studentId',\n",
       "  'createdDate',\n",
       "  'updatedDate',\n",
       "  'isExpelled',\n",
       "  'courseId',\n",
       "  'isFailed',\n",
       "  'startDate',\n",
       "  'mean_score',\n",
       "  '100_score',\n",
       "  '200_score',\n",
       "  '300_score',\n",
       "  '400_score',\n",
       "  '500_score',\n",
       "  'max_score',\n",
       "  'count_course',\n",
       "  'real_score',\n",
       "  'mean_weight'])"
      ]
     },
     "execution_count": 45,
     "metadata": {},
     "output_type": "execute_result"
    }
   ],
   "source": [
    "cat_cols, num_cols"
   ]
  },
  {
   "cell_type": "code",
   "execution_count": 46,
   "metadata": {
    "execution": {
     "iopub.execute_input": "2021-03-28T18:42:17.986799Z",
     "iopub.status.busy": "2021-03-28T18:42:17.985806Z",
     "iopub.status.idle": "2021-03-28T18:42:18.000933Z",
     "shell.execute_reply": "2021-03-28T18:42:17.999962Z"
    },
    "papermill": {
     "duration": 0.082868,
     "end_time": "2021-03-28T18:42:18.001140",
     "exception": false,
     "start_time": "2021-03-28T18:42:17.918272",
     "status": "completed"
    },
    "tags": []
   },
   "outputs": [],
   "source": [
    "pear_corr = drop_train[num_cols].corr(method='pearson')"
   ]
  },
  {
   "cell_type": "code",
   "execution_count": 47,
   "metadata": {
    "execution": {
     "iopub.execute_input": "2021-03-28T18:42:18.159125Z",
     "iopub.status.busy": "2021-03-28T18:42:18.156343Z",
     "iopub.status.idle": "2021-03-28T18:42:18.642544Z",
     "shell.execute_reply": "2021-03-28T18:42:18.641333Z"
    },
    "papermill": {
     "duration": 0.580085,
     "end_time": "2021-03-28T18:42:18.642724",
     "exception": false,
     "start_time": "2021-03-28T18:42:18.062639",
     "status": "completed"
    },
    "tags": []
   },
   "outputs": [
    {
     "data": {
      "text/plain": [
       "<AxesSubplot:>"
      ]
     },
     "execution_count": 47,
     "metadata": {},
     "output_type": "execute_result"
    },
    {
     "data": {
      "image/png": "[encoded data removed]",
      "text/plain": [
       "<Figure size 432x288 with 2 Axes>"
      ]
     },
     "metadata": {
      "needs_background": "light"
     },
     "output_type": "display_data"
    }
   ],
   "source": [
    "mask = np.triu(np.ones_like(pear_corr, dtype=bool))\n",
    "cmap = sns.diverging_palette(10, 950, as_cmap=True)\n",
    "sns.heatmap(pear_corr, mask=mask, cmap=cmap, center=0,\n",
    "            square=True, linewidths=1, cbar_kws={\"shrink\": 1})"
   ]
  },
  {
   "cell_type": "code",
   "execution_count": 48,
   "metadata": {
    "execution": {
     "iopub.execute_input": "2021-03-28T18:42:18.781962Z",
     "iopub.status.busy": "2021-03-28T18:42:18.781268Z",
     "iopub.status.idle": "2021-03-28T18:42:18.785555Z",
     "shell.execute_reply": "2021-03-28T18:42:18.784821Z"
    },
    "papermill": {
     "duration": 0.081093,
     "end_time": "2021-03-28T18:42:18.785710",
     "exception": false,
     "start_time": "2021-03-28T18:42:18.704617",
     "status": "completed"
    },
    "tags": []
   },
   "outputs": [],
   "source": [
    "upper = pear_corr.where(np.triu(np.ones(pear_corr.shape), k=1).astype(np.bool))\n",
    "to_drop = [x for x in upper.columns if any(upper[x] > 0.98)]"
   ]
  },
  {
   "cell_type": "code",
   "execution_count": 49,
   "metadata": {
    "execution": {
     "iopub.execute_input": "2021-03-28T18:42:18.916912Z",
     "iopub.status.busy": "2021-03-28T18:42:18.915656Z",
     "iopub.status.idle": "2021-03-28T18:42:18.921936Z",
     "shell.execute_reply": "2021-03-28T18:42:18.921247Z"
    },
    "papermill": {
     "duration": 0.076005,
     "end_time": "2021-03-28T18:42:18.922106",
     "exception": false,
     "start_time": "2021-03-28T18:42:18.846101",
     "status": "completed"
    },
    "tags": []
   },
   "outputs": [
    {
     "data": {
      "text/plain": [
       "['max_score']"
      ]
     },
     "execution_count": 49,
     "metadata": {},
     "output_type": "execute_result"
    }
   ],
   "source": [
    "to_drop"
   ]
  },
  {
   "cell_type": "code",
   "execution_count": 50,
   "metadata": {
    "execution": {
     "iopub.execute_input": "2021-03-28T18:42:19.099263Z",
     "iopub.status.busy": "2021-03-28T18:42:19.098479Z",
     "iopub.status.idle": "2021-03-28T18:42:19.107597Z",
     "shell.execute_reply": "2021-03-28T18:42:19.106757Z"
    },
    "papermill": {
     "duration": 0.122164,
     "end_time": "2021-03-28T18:42:19.107783",
     "exception": false,
     "start_time": "2021-03-28T18:42:18.985619",
     "status": "completed"
    },
    "tags": []
   },
   "outputs": [
    {
     "data": {
      "text/html": [
       "<div>\n",
       "<style scoped>\n",
       "    .dataframe tbody tr th:only-of-type {\n",
       "        vertical-align: middle;\n",
       "    }\n",
       "\n",
       "    .dataframe tbody tr th {\n",
       "        vertical-align: top;\n",
       "    }\n",
       "\n",
       "    .dataframe thead th {\n",
       "        text-align: right;\n",
       "    }\n",
       "</style>\n",
       "<table border=\"1\" class=\"dataframe\">\n",
       "  <thead>\n",
       "    <tr style=\"text-align: right;\">\n",
       "      <th></th>\n",
       "      <th>studentId</th>\n",
       "      <th>createdDate</th>\n",
       "      <th>updatedDate</th>\n",
       "      <th>isExpelled</th>\n",
       "      <th>courseId</th>\n",
       "      <th>isFailed</th>\n",
       "      <th>startDate</th>\n",
       "      <th>mean_score</th>\n",
       "      <th>100_score</th>\n",
       "      <th>200_score</th>\n",
       "      <th>300_score</th>\n",
       "      <th>400_score</th>\n",
       "      <th>500_score</th>\n",
       "      <th>max_score</th>\n",
       "      <th>count_course</th>\n",
       "      <th>real_score</th>\n",
       "      <th>mean_weight</th>\n",
       "    </tr>\n",
       "  </thead>\n",
       "  <tbody>\n",
       "    <tr>\n",
       "      <th>studentId</th>\n",
       "      <td>1.000000</td>\n",
       "      <td>0.843870</td>\n",
       "      <td>0.820096</td>\n",
       "      <td>0.217505</td>\n",
       "      <td>0.946417</td>\n",
       "      <td>-0.510797</td>\n",
       "      <td>0.177305</td>\n",
       "      <td>-0.039369</td>\n",
       "      <td>0.169849</td>\n",
       "      <td>0.139578</td>\n",
       "      <td>0.120028</td>\n",
       "      <td>0.113365</td>\n",
       "      <td>0.103419</td>\n",
       "      <td>-0.043286</td>\n",
       "      <td>0.142509</td>\n",
       "      <td>0.244731</td>\n",
       "      <td>0.072574</td>\n",
       "    </tr>\n",
       "    <tr>\n",
       "      <th>createdDate</th>\n",
       "      <td>0.843870</td>\n",
       "      <td>1.000000</td>\n",
       "      <td>0.926201</td>\n",
       "      <td>0.079271</td>\n",
       "      <td>0.746090</td>\n",
       "      <td>-0.354905</td>\n",
       "      <td>0.107884</td>\n",
       "      <td>-0.034694</td>\n",
       "      <td>0.227896</td>\n",
       "      <td>0.191500</td>\n",
       "      <td>0.166010</td>\n",
       "      <td>0.161134</td>\n",
       "      <td>0.156780</td>\n",
       "      <td>-0.039411</td>\n",
       "      <td>0.203036</td>\n",
       "      <td>0.243581</td>\n",
       "      <td>0.104212</td>\n",
       "    </tr>\n",
       "    <tr>\n",
       "      <th>updatedDate</th>\n",
       "      <td>0.820096</td>\n",
       "      <td>0.926201</td>\n",
       "      <td>1.000000</td>\n",
       "      <td>0.026006</td>\n",
       "      <td>0.745346</td>\n",
       "      <td>-0.382801</td>\n",
       "      <td>0.138715</td>\n",
       "      <td>-0.035215</td>\n",
       "      <td>0.320282</td>\n",
       "      <td>0.235696</td>\n",
       "      <td>0.163889</td>\n",
       "      <td>0.152664</td>\n",
       "      <td>0.148140</td>\n",
       "      <td>-0.040988</td>\n",
       "      <td>0.308789</td>\n",
       "      <td>0.305576</td>\n",
       "      <td>0.120446</td>\n",
       "    </tr>\n",
       "    <tr>\n",
       "      <th>isExpelled</th>\n",
       "      <td>0.217505</td>\n",
       "      <td>0.079271</td>\n",
       "      <td>0.026006</td>\n",
       "      <td>1.000000</td>\n",
       "      <td>0.115907</td>\n",
       "      <td>0.188987</td>\n",
       "      <td>0.077586</td>\n",
       "      <td>-0.068222</td>\n",
       "      <td>-0.332713</td>\n",
       "      <td>-0.332800</td>\n",
       "      <td>-0.204524</td>\n",
       "      <td>-0.197721</td>\n",
       "      <td>-0.202265</td>\n",
       "      <td>-0.063898</td>\n",
       "      <td>-0.348606</td>\n",
       "      <td>-0.226605</td>\n",
       "      <td>-0.262964</td>\n",
       "    </tr>\n",
       "    <tr>\n",
       "      <th>courseId</th>\n",
       "      <td>0.946417</td>\n",
       "      <td>0.746090</td>\n",
       "      <td>0.745346</td>\n",
       "      <td>0.115907</td>\n",
       "      <td>1.000000</td>\n",
       "      <td>-0.607293</td>\n",
       "      <td>0.164798</td>\n",
       "      <td>-0.033166</td>\n",
       "      <td>0.180950</td>\n",
       "      <td>0.151921</td>\n",
       "      <td>0.120497</td>\n",
       "      <td>0.108919</td>\n",
       "      <td>0.093206</td>\n",
       "      <td>-0.038387</td>\n",
       "      <td>0.159242</td>\n",
       "      <td>0.275283</td>\n",
       "      <td>0.148942</td>\n",
       "    </tr>\n",
       "    <tr>\n",
       "      <th>isFailed</th>\n",
       "      <td>-0.510797</td>\n",
       "      <td>-0.354905</td>\n",
       "      <td>-0.382801</td>\n",
       "      <td>0.188987</td>\n",
       "      <td>-0.607293</td>\n",
       "      <td>1.000000</td>\n",
       "      <td>-0.053846</td>\n",
       "      <td>-0.023736</td>\n",
       "      <td>-0.182249</td>\n",
       "      <td>-0.102152</td>\n",
       "      <td>-0.071200</td>\n",
       "      <td>-0.064384</td>\n",
       "      <td>-0.061461</td>\n",
       "      <td>-0.019174</td>\n",
       "      <td>-0.191612</td>\n",
       "      <td>-0.151960</td>\n",
       "      <td>-0.081228</td>\n",
       "    </tr>\n",
       "    <tr>\n",
       "      <th>startDate</th>\n",
       "      <td>0.177305</td>\n",
       "      <td>0.107884</td>\n",
       "      <td>0.138715</td>\n",
       "      <td>0.077586</td>\n",
       "      <td>0.164798</td>\n",
       "      <td>-0.053846</td>\n",
       "      <td>1.000000</td>\n",
       "      <td>-0.050765</td>\n",
       "      <td>0.016192</td>\n",
       "      <td>0.011622</td>\n",
       "      <td>0.006207</td>\n",
       "      <td>0.006266</td>\n",
       "      <td>0.005061</td>\n",
       "      <td>-0.051784</td>\n",
       "      <td>0.015669</td>\n",
       "      <td>0.069821</td>\n",
       "      <td>-0.013710</td>\n",
       "    </tr>\n",
       "    <tr>\n",
       "      <th>mean_score</th>\n",
       "      <td>-0.039369</td>\n",
       "      <td>-0.034694</td>\n",
       "      <td>-0.035215</td>\n",
       "      <td>-0.068222</td>\n",
       "      <td>-0.033166</td>\n",
       "      <td>-0.023736</td>\n",
       "      <td>-0.050765</td>\n",
       "      <td>1.000000</td>\n",
       "      <td>0.010008</td>\n",
       "      <td>0.052138</td>\n",
       "      <td>0.118810</td>\n",
       "      <td>0.125757</td>\n",
       "      <td>0.143573</td>\n",
       "      <td>0.990999</td>\n",
       "      <td>0.037462</td>\n",
       "      <td>-0.008302</td>\n",
       "      <td>0.052437</td>\n",
       "    </tr>\n",
       "    <tr>\n",
       "      <th>100_score</th>\n",
       "      <td>0.169849</td>\n",
       "      <td>0.227896</td>\n",
       "      <td>0.320282</td>\n",
       "      <td>-0.332713</td>\n",
       "      <td>0.180950</td>\n",
       "      <td>-0.182249</td>\n",
       "      <td>0.016192</td>\n",
       "      <td>0.010008</td>\n",
       "      <td>1.000000</td>\n",
       "      <td>0.724050</td>\n",
       "      <td>0.490606</td>\n",
       "      <td>0.488826</td>\n",
       "      <td>0.530919</td>\n",
       "      <td>0.000817</td>\n",
       "      <td>0.951690</td>\n",
       "      <td>0.694891</td>\n",
       "      <td>0.147997</td>\n",
       "    </tr>\n",
       "    <tr>\n",
       "      <th>200_score</th>\n",
       "      <td>0.139578</td>\n",
       "      <td>0.191500</td>\n",
       "      <td>0.235696</td>\n",
       "      <td>-0.332800</td>\n",
       "      <td>0.151921</td>\n",
       "      <td>-0.102152</td>\n",
       "      <td>0.011622</td>\n",
       "      <td>0.052138</td>\n",
       "      <td>0.724050</td>\n",
       "      <td>1.000000</td>\n",
       "      <td>0.703461</td>\n",
       "      <td>0.671239</td>\n",
       "      <td>0.678106</td>\n",
       "      <td>0.044354</td>\n",
       "      <td>0.620453</td>\n",
       "      <td>0.657991</td>\n",
       "      <td>0.274871</td>\n",
       "    </tr>\n",
       "    <tr>\n",
       "      <th>300_score</th>\n",
       "      <td>0.120028</td>\n",
       "      <td>0.166010</td>\n",
       "      <td>0.163889</td>\n",
       "      <td>-0.204524</td>\n",
       "      <td>0.120497</td>\n",
       "      <td>-0.071200</td>\n",
       "      <td>0.006207</td>\n",
       "      <td>0.118810</td>\n",
       "      <td>0.490606</td>\n",
       "      <td>0.703461</td>\n",
       "      <td>1.000000</td>\n",
       "      <td>0.957885</td>\n",
       "      <td>0.905655</td>\n",
       "      <td>0.113328</td>\n",
       "      <td>0.422333</td>\n",
       "      <td>0.689103</td>\n",
       "      <td>0.423341</td>\n",
       "    </tr>\n",
       "    <tr>\n",
       "      <th>400_score</th>\n",
       "      <td>0.113365</td>\n",
       "      <td>0.161134</td>\n",
       "      <td>0.152664</td>\n",
       "      <td>-0.197721</td>\n",
       "      <td>0.108919</td>\n",
       "      <td>-0.064384</td>\n",
       "      <td>0.006266</td>\n",
       "      <td>0.125757</td>\n",
       "      <td>0.488826</td>\n",
       "      <td>0.671239</td>\n",
       "      <td>0.957885</td>\n",
       "      <td>1.000000</td>\n",
       "      <td>0.955574</td>\n",
       "      <td>0.120841</td>\n",
       "      <td>0.427785</td>\n",
       "      <td>0.648431</td>\n",
       "      <td>0.342540</td>\n",
       "    </tr>\n",
       "    <tr>\n",
       "      <th>500_score</th>\n",
       "      <td>0.103419</td>\n",
       "      <td>0.156780</td>\n",
       "      <td>0.148140</td>\n",
       "      <td>-0.202265</td>\n",
       "      <td>0.093206</td>\n",
       "      <td>-0.061461</td>\n",
       "      <td>0.005061</td>\n",
       "      <td>0.143573</td>\n",
       "      <td>0.530919</td>\n",
       "      <td>0.678106</td>\n",
       "      <td>0.905655</td>\n",
       "      <td>0.955574</td>\n",
       "      <td>1.000000</td>\n",
       "      <td>0.141035</td>\n",
       "      <td>0.474072</td>\n",
       "      <td>0.595331</td>\n",
       "      <td>0.216844</td>\n",
       "    </tr>\n",
       "    <tr>\n",
       "      <th>max_score</th>\n",
       "      <td>-0.043286</td>\n",
       "      <td>-0.039411</td>\n",
       "      <td>-0.040988</td>\n",
       "      <td>-0.063898</td>\n",
       "      <td>-0.038387</td>\n",
       "      <td>-0.019174</td>\n",
       "      <td>-0.051784</td>\n",
       "      <td>0.990999</td>\n",
       "      <td>0.000817</td>\n",
       "      <td>0.044354</td>\n",
       "      <td>0.113328</td>\n",
       "      <td>0.120841</td>\n",
       "      <td>0.141035</td>\n",
       "      <td>1.000000</td>\n",
       "      <td>0.029048</td>\n",
       "      <td>-0.019592</td>\n",
       "      <td>0.041115</td>\n",
       "    </tr>\n",
       "    <tr>\n",
       "      <th>count_course</th>\n",
       "      <td>0.142509</td>\n",
       "      <td>0.203036</td>\n",
       "      <td>0.308789</td>\n",
       "      <td>-0.348606</td>\n",
       "      <td>0.159242</td>\n",
       "      <td>-0.191612</td>\n",
       "      <td>0.015669</td>\n",
       "      <td>0.037462</td>\n",
       "      <td>0.951690</td>\n",
       "      <td>0.620453</td>\n",
       "      <td>0.422333</td>\n",
       "      <td>0.427785</td>\n",
       "      <td>0.474072</td>\n",
       "      <td>0.029048</td>\n",
       "      <td>1.000000</td>\n",
       "      <td>0.672301</td>\n",
       "      <td>0.143101</td>\n",
       "    </tr>\n",
       "    <tr>\n",
       "      <th>real_score</th>\n",
       "      <td>0.244731</td>\n",
       "      <td>0.243581</td>\n",
       "      <td>0.305576</td>\n",
       "      <td>-0.226605</td>\n",
       "      <td>0.275283</td>\n",
       "      <td>-0.151960</td>\n",
       "      <td>0.069821</td>\n",
       "      <td>-0.008302</td>\n",
       "      <td>0.694891</td>\n",
       "      <td>0.657991</td>\n",
       "      <td>0.689103</td>\n",
       "      <td>0.648431</td>\n",
       "      <td>0.595331</td>\n",
       "      <td>-0.019592</td>\n",
       "      <td>0.672301</td>\n",
       "      <td>1.000000</td>\n",
       "      <td>0.597085</td>\n",
       "    </tr>\n",
       "    <tr>\n",
       "      <th>mean_weight</th>\n",
       "      <td>0.072574</td>\n",
       "      <td>0.104212</td>\n",
       "      <td>0.120446</td>\n",
       "      <td>-0.262964</td>\n",
       "      <td>0.148942</td>\n",
       "      <td>-0.081228</td>\n",
       "      <td>-0.013710</td>\n",
       "      <td>0.052437</td>\n",
       "      <td>0.147997</td>\n",
       "      <td>0.274871</td>\n",
       "      <td>0.423341</td>\n",
       "      <td>0.342540</td>\n",
       "      <td>0.216844</td>\n",
       "      <td>0.041115</td>\n",
       "      <td>0.143101</td>\n",
       "      <td>0.597085</td>\n",
       "      <td>1.000000</td>\n",
       "    </tr>\n",
       "  </tbody>\n",
       "</table>\n",
       "</div>"
      ],
      "text/plain": [
       "              studentId  createdDate  updatedDate  isExpelled  courseId  \\\n",
       "studentId      1.000000     0.843870     0.820096    0.217505  0.946417   \n",
       "createdDate    0.843870     1.000000     0.926201    0.079271  0.746090   \n",
       "updatedDate    0.820096     0.926201     1.000000    0.026006  0.745346   \n",
       "isExpelled     0.217505     0.079271     0.026006    1.000000  0.115907   \n",
       "courseId       0.946417     0.746090     0.745346    0.115907  1.000000   \n",
       "isFailed      -0.510797    -0.354905    -0.382801    0.188987 -0.607293   \n",
       "startDate      0.177305     0.107884     0.138715    0.077586  0.164798   \n",
       "mean_score    -0.039369    -0.034694    -0.035215   -0.068222 -0.033166   \n",
       "100_score      0.169849     0.227896     0.320282   -0.332713  0.180950   \n",
       "200_score      0.139578     0.191500     0.235696   -0.332800  0.151921   \n",
       "300_score      0.120028     0.166010     0.163889   -0.204524  0.120497   \n",
       "400_score      0.113365     0.161134     0.152664   -0.197721  0.108919   \n",
       "500_score      0.103419     0.156780     0.148140   -0.202265  0.093206   \n",
       "max_score     -0.043286    -0.039411    -0.040988   -0.063898 -0.038387   \n",
       "count_course   0.142509     0.203036     0.308789   -0.348606  0.159242   \n",
       "real_score     0.244731     0.243581     0.305576   -0.226605  0.275283   \n",
       "mean_weight    0.072574     0.104212     0.120446   -0.262964  0.148942   \n",
       "\n",
       "              isFailed  startDate  mean_score  100_score  200_score  \\\n",
       "studentId    -0.510797   0.177305   -0.039369   0.169849   0.139578   \n",
       "createdDate  -0.354905   0.107884   -0.034694   0.227896   0.191500   \n",
       "updatedDate  -0.382801   0.138715   -0.035215   0.320282   0.235696   \n",
       "isExpelled    0.188987   0.077586   -0.068222  -0.332713  -0.332800   \n",
       "courseId     -0.607293   0.164798   -0.033166   0.180950   0.151921   \n",
       "isFailed      1.000000  -0.053846   -0.023736  -0.182249  -0.102152   \n",
       "startDate    -0.053846   1.000000   -0.050765   0.016192   0.011622   \n",
       "mean_score   -0.023736  -0.050765    1.000000   0.010008   0.052138   \n",
       "100_score    -0.182249   0.016192    0.010008   1.000000   0.724050   \n",
       "200_score    -0.102152   0.011622    0.052138   0.724050   1.000000   \n",
       "300_score    -0.071200   0.006207    0.118810   0.490606   0.703461   \n",
       "400_score    -0.064384   0.006266    0.125757   0.488826   0.671239   \n",
       "500_score    -0.061461   0.005061    0.143573   0.530919   0.678106   \n",
       "max_score    -0.019174  -0.051784    0.990999   0.000817   0.044354   \n",
       "count_course -0.191612   0.015669    0.037462   0.951690   0.620453   \n",
       "real_score   -0.151960   0.069821   -0.008302   0.694891   0.657991   \n",
       "mean_weight  -0.081228  -0.013710    0.052437   0.147997   0.274871   \n",
       "\n",
       "              300_score  400_score  500_score  max_score  count_course  \\\n",
       "studentId      0.120028   0.113365   0.103419  -0.043286      0.142509   \n",
       "createdDate    0.166010   0.161134   0.156780  -0.039411      0.203036   \n",
       "updatedDate    0.163889   0.152664   0.148140  -0.040988      0.308789   \n",
       "isExpelled    -0.204524  -0.197721  -0.202265  -0.063898     -0.348606   \n",
       "courseId       0.120497   0.108919   0.093206  -0.038387      0.159242   \n",
       "isFailed      -0.071200  -0.064384  -0.061461  -0.019174     -0.191612   \n",
       "startDate      0.006207   0.006266   0.005061  -0.051784      0.015669   \n",
       "mean_score     0.118810   0.125757   0.143573   0.990999      0.037462   \n",
       "100_score      0.490606   0.488826   0.530919   0.000817      0.951690   \n",
       "200_score      0.703461   0.671239   0.678106   0.044354      0.620453   \n",
       "300_score      1.000000   0.957885   0.905655   0.113328      0.422333   \n",
       "400_score      0.957885   1.000000   0.955574   0.120841      0.427785   \n",
       "500_score      0.905655   0.955574   1.000000   0.141035      0.474072   \n",
       "max_score      0.113328   0.120841   0.141035   1.000000      0.029048   \n",
       "count_course   0.422333   0.427785   0.474072   0.029048      1.000000   \n",
       "real_score     0.689103   0.648431   0.595331  -0.019592      0.672301   \n",
       "mean_weight    0.423341   0.342540   0.216844   0.041115      0.143101   \n",
       "\n",
       "              real_score  mean_weight  \n",
       "studentId       0.244731     0.072574  \n",
       "createdDate     0.243581     0.104212  \n",
       "updatedDate     0.305576     0.120446  \n",
       "isExpelled     -0.226605    -0.262964  \n",
       "courseId        0.275283     0.148942  \n",
       "isFailed       -0.151960    -0.081228  \n",
       "startDate       0.069821    -0.013710  \n",
       "mean_score     -0.008302     0.052437  \n",
       "100_score       0.694891     0.147997  \n",
       "200_score       0.657991     0.274871  \n",
       "300_score       0.689103     0.423341  \n",
       "400_score       0.648431     0.342540  \n",
       "500_score       0.595331     0.216844  \n",
       "max_score      -0.019592     0.041115  \n",
       "count_course    0.672301     0.143101  \n",
       "real_score      1.000000     0.597085  \n",
       "mean_weight     0.597085     1.000000  "
      ]
     },
     "execution_count": 50,
     "metadata": {},
     "output_type": "execute_result"
    }
   ],
   "source": [
    "pear_corr"
   ]
  },
  {
   "cell_type": "code",
   "execution_count": 51,
   "metadata": {
    "execution": {
     "iopub.execute_input": "2021-03-28T18:42:19.273590Z",
     "iopub.status.busy": "2021-03-28T18:42:19.272830Z",
     "iopub.status.idle": "2021-03-28T18:42:19.279665Z",
     "shell.execute_reply": "2021-03-28T18:42:19.278846Z"
    },
    "papermill": {
     "duration": 0.094938,
     "end_time": "2021-03-28T18:42:19.279867",
     "exception": false,
     "start_time": "2021-03-28T18:42:19.184929",
     "status": "completed"
    },
    "tags": []
   },
   "outputs": [],
   "source": [
    "#drop_train.drop(to_drop, inplace=True, axis=1)\n",
    "#drop_test.drop(to_drop, inplace=True, axis=1)"
   ]
  },
  {
   "cell_type": "code",
   "execution_count": 52,
   "metadata": {
    "execution": {
     "iopub.execute_input": "2021-03-28T18:42:19.411085Z",
     "iopub.status.busy": "2021-03-28T18:42:19.410399Z",
     "iopub.status.idle": "2021-03-28T18:42:19.413857Z",
     "shell.execute_reply": "2021-03-28T18:42:19.413324Z"
    },
    "papermill": {
     "duration": 0.072976,
     "end_time": "2021-03-28T18:42:19.414028",
     "exception": false,
     "start_time": "2021-03-28T18:42:19.341052",
     "status": "completed"
    },
    "tags": []
   },
   "outputs": [],
   "source": [
    "# Select categorical columns in training and testing data\n",
    "cat_cols = [cname for cname in drop_train.columns if\n",
    "                    drop_train[cname].dtype == \"object\"]\n",
    "num_cols = [cname for cname in drop_train.columns if \n",
    "                drop_train[cname].dtype in ['int64', 'float64']]"
   ]
  },
  {
   "cell_type": "code",
   "execution_count": 53,
   "metadata": {
    "execution": {
     "iopub.execute_input": "2021-03-28T18:42:19.549029Z",
     "iopub.status.busy": "2021-03-28T18:42:19.548219Z",
     "iopub.status.idle": "2021-03-28T18:42:19.553364Z",
     "shell.execute_reply": "2021-03-28T18:42:19.552730Z"
    },
    "papermill": {
     "duration": 0.07589,
     "end_time": "2021-03-28T18:42:19.553531",
     "exception": false,
     "start_time": "2021-03-28T18:42:19.477641",
     "status": "completed"
    },
    "tags": []
   },
   "outputs": [],
   "source": [
    "# Break off validation set from training data\n",
    "X_train, X_val, y_train, y_val = train_test_split(drop_train, y, test_size=0.2, random_state=0)"
   ]
  },
  {
   "cell_type": "code",
   "execution_count": 54,
   "metadata": {
    "execution": {
     "iopub.execute_input": "2021-03-28T18:42:19.679825Z",
     "iopub.status.busy": "2021-03-28T18:42:19.679001Z",
     "iopub.status.idle": "2021-03-28T18:42:19.682315Z",
     "shell.execute_reply": "2021-03-28T18:42:19.682800Z"
    },
    "papermill": {
     "duration": 0.069321,
     "end_time": "2021-03-28T18:42:19.682992",
     "exception": false,
     "start_time": "2021-03-28T18:42:19.613671",
     "status": "completed"
    },
    "tags": []
   },
   "outputs": [],
   "source": [
    "#parameters = {'loss' : ['hinge', 'log', 'modified_huber', 'squared_hinge', 'perceptron'],\n",
    "              #'penalty':['l2', 'l1'],\n",
    "              #'alpha':np.array([0.0001, 0.001, 0.1]),\n",
    "              #'l1_ratio':np.array([0.6, 0.9, 0.01])\n",
    "             #}"
   ]
  },
  {
   "cell_type": "code",
   "execution_count": 55,
   "metadata": {
    "execution": {
     "iopub.execute_input": "2021-03-28T18:42:19.812538Z",
     "iopub.status.busy": "2021-03-28T18:42:19.811513Z",
     "iopub.status.idle": "2021-03-28T18:42:19.815142Z",
     "shell.execute_reply": "2021-03-28T18:42:19.815853Z"
    },
    "papermill": {
     "duration": 0.073141,
     "end_time": "2021-03-28T18:42:19.816046",
     "exception": false,
     "start_time": "2021-03-28T18:42:19.742905",
     "status": "completed"
    },
    "tags": []
   },
   "outputs": [],
   "source": [
    "#c_model = SGDClassifier(random_state=0, penalty='elasticnet')\n",
    "#clf = GridSearchCV(c_model, parameters, n_jobs=-1)"
   ]
  },
  {
   "cell_type": "code",
   "execution_count": 56,
   "metadata": {
    "execution": {
     "iopub.execute_input": "2021-03-28T18:42:19.958908Z",
     "iopub.status.busy": "2021-03-28T18:42:19.957647Z",
     "iopub.status.idle": "2021-03-28T18:42:19.960138Z",
     "shell.execute_reply": "2021-03-28T18:42:19.959590Z"
    },
    "papermill": {
     "duration": 0.080544,
     "end_time": "2021-03-28T18:42:19.960316",
     "exception": false,
     "start_time": "2021-03-28T18:42:19.879772",
     "status": "completed"
    },
    "tags": []
   },
   "outputs": [],
   "source": [
    "#clf.fit(X_train, y_train)\n",
    "#clf.best_estimator_"
   ]
  },
  {
   "cell_type": "code",
   "execution_count": 57,
   "metadata": {
    "execution": {
     "iopub.execute_input": "2021-03-28T18:42:20.112772Z",
     "iopub.status.busy": "2021-03-28T18:42:20.111887Z",
     "iopub.status.idle": "2021-03-28T18:42:20.114307Z",
     "shell.execute_reply": "2021-03-28T18:42:20.113574Z"
    },
    "papermill": {
     "duration": 0.081648,
     "end_time": "2021-03-28T18:42:20.114544",
     "exception": false,
     "start_time": "2021-03-28T18:42:20.032896",
     "status": "completed"
    },
    "tags": []
   },
   "outputs": [],
   "source": [
    "# Preprocessing for numerical data\n",
    "numerical_transformer = Pipeline(steps=[\n",
    "    ('scaler', StandardScaler()),\n",
    "    ('onehot', OneHotEncoder(handle_unknown='ignore'))\n",
    "])\n",
    "# Preprocessing for categorical data\n",
    "categorical_transformer = Pipeline(steps=[\n",
    "    ('scaler', StandardScaler()),\n",
    "    ('onehot', OneHotEncoder(handle_unknown='ignore'))\n",
    "])"
   ]
  },
  {
   "cell_type": "code",
   "execution_count": 58,
   "metadata": {
    "execution": {
     "iopub.execute_input": "2021-03-28T18:42:20.261113Z",
     "iopub.status.busy": "2021-03-28T18:42:20.260049Z",
     "iopub.status.idle": "2021-03-28T18:42:20.263627Z",
     "shell.execute_reply": "2021-03-28T18:42:20.263001Z"
    },
    "papermill": {
     "duration": 0.079783,
     "end_time": "2021-03-28T18:42:20.263783",
     "exception": false,
     "start_time": "2021-03-28T18:42:20.184000",
     "status": "completed"
    },
    "tags": []
   },
   "outputs": [],
   "source": [
    "preprocessor = ColumnTransformer(\n",
    "    transformers=[\n",
    "        ('num', numerical_transformer, num_cols),\n",
    "        ('cat', categorical_transformer, cat_cols)\n",
    "    ])\n",
    "\n",
    "selector = SelectFromModel(RandomForestRegressor(n_estimators=27, random_state=0))\n",
    "#selector = SelectFromModel(SGDRegressor(random_state=0, penalty='elasticnet', l1_ratio=0.85))\n",
    "\n",
    "\n",
    "model = SGDClassifier(random_state=0, loss='hinge', penalty='elasticnet', l1_ratio=0.78)\n",
    "#model = KNeighborsClassifier(n_jobs=-1, weights='distance')\n",
    "#model = SGDClassifier(alpha=0.1, loss='log', max_iter=500, n_jobs=-1, penalty='l1', random_state=0)"
   ]
  },
  {
   "cell_type": "code",
   "execution_count": 59,
   "metadata": {
    "execution": {
     "iopub.execute_input": "2021-03-28T18:42:20.407647Z",
     "iopub.status.busy": "2021-03-28T18:42:20.406867Z",
     "iopub.status.idle": "2021-03-28T18:42:20.411254Z",
     "shell.execute_reply": "2021-03-28T18:42:20.411824Z"
    },
    "papermill": {
     "duration": 0.077699,
     "end_time": "2021-03-28T18:42:20.412001",
     "exception": false,
     "start_time": "2021-03-28T18:42:20.334302",
     "status": "completed"
    },
    "tags": []
   },
   "outputs": [],
   "source": [
    "pipe = Pipeline(steps=[('preprocessor', preprocessor),\n",
    "                       ('selector', selector),\n",
    "                       ('model', model)])"
   ]
  },
  {
   "cell_type": "code",
   "execution_count": 60,
   "metadata": {
    "execution": {
     "iopub.execute_input": "2021-03-28T18:42:20.542553Z",
     "iopub.status.busy": "2021-03-28T18:42:20.541829Z",
     "iopub.status.idle": "2021-03-28T18:42:25.091026Z",
     "shell.execute_reply": "2021-03-28T18:42:25.091632Z"
    },
    "papermill": {
     "duration": 4.615683,
     "end_time": "2021-03-28T18:42:25.091826",
     "exception": false,
     "start_time": "2021-03-28T18:42:20.476143",
     "status": "completed"
    },
    "tags": []
   },
   "outputs": [
    {
     "data": {
      "text/plain": [
       "Pipeline(steps=[('preprocessor',\n",
       "                 ColumnTransformer(transformers=[('num',\n",
       "                                                  Pipeline(steps=[('scaler',\n",
       "                                                                   StandardScaler()),\n",
       "                                                                  ('onehot',\n",
       "                                                                   OneHotEncoder(handle_unknown='ignore'))]),\n",
       "                                                  ['studentId', 'createdDate',\n",
       "                                                   'updatedDate', 'isExpelled',\n",
       "                                                   'courseId', 'isFailed',\n",
       "                                                   'startDate', 'mean_score',\n",
       "                                                   '100_score', '200_score',\n",
       "                                                   '300_score', '400_score',\n",
       "                                                   '500_score', 'max_score',\n",
       "                                                   'count_course', 'real_score',\n",
       "                                                   'mean_weight']),\n",
       "                                                 ('cat',\n",
       "                                                  Pipeline(steps=[('scaler',\n",
       "                                                                   StandardScaler()),\n",
       "                                                                  ('onehot',\n",
       "                                                                   OneHotEncoder(handle_unknown='ignore'))]),\n",
       "                                                  [])])),\n",
       "                ('selector',\n",
       "                 SelectFromModel(estimator=RandomForestRegressor(n_estimators=27,\n",
       "                                                                 random_state=0))),\n",
       "                ('model',\n",
       "                 SGDClassifier(l1_ratio=0.78, penalty='elasticnet',\n",
       "                               random_state=0))])"
      ]
     },
     "execution_count": 60,
     "metadata": {},
     "output_type": "execute_result"
    }
   ],
   "source": [
    "pipe.fit(X_train, y_train)"
   ]
  },
  {
   "cell_type": "code",
   "execution_count": 61,
   "metadata": {
    "execution": {
     "iopub.execute_input": "2021-03-28T18:42:25.237561Z",
     "iopub.status.busy": "2021-03-28T18:42:25.236435Z",
     "iopub.status.idle": "2021-03-28T18:42:25.266803Z",
     "shell.execute_reply": "2021-03-28T18:42:25.266227Z"
    },
    "papermill": {
     "duration": 0.10534,
     "end_time": "2021-03-28T18:42:25.266958",
     "exception": false,
     "start_time": "2021-03-28T18:42:25.161618",
     "status": "completed"
    },
    "tags": []
   },
   "outputs": [
    {
     "data": {
      "text/plain": [
       "0.9737470167064439"
      ]
     },
     "execution_count": 61,
     "metadata": {},
     "output_type": "execute_result"
    }
   ],
   "source": [
    "pipe.score(X_val, y_val)"
   ]
  },
  {
   "cell_type": "code",
   "execution_count": 62,
   "metadata": {
    "execution": {
     "iopub.execute_input": "2021-03-28T18:42:25.411999Z",
     "iopub.status.busy": "2021-03-28T18:42:25.407346Z",
     "iopub.status.idle": "2021-03-28T18:42:27.912566Z",
     "shell.execute_reply": "2021-03-28T18:42:27.911980Z"
    },
    "papermill": {
     "duration": 2.577056,
     "end_time": "2021-03-28T18:42:27.912713",
     "exception": false,
     "start_time": "2021-03-28T18:42:25.335657",
     "status": "completed"
    },
    "tags": []
   },
   "outputs": [
    {
     "data": {
      "text/plain": [
       "(0.9459193706981317, 0.9005977151827441)"
      ]
     },
     "execution_count": 62,
     "metadata": {},
     "output_type": "execute_result"
    }
   ],
   "source": [
    "f1_score(y_val, pipe.predict(X_val)), cross_val_score(pipe, X_val, y_val, cv=5, scoring='f1').mean()"
   ]
  },
  {
   "cell_type": "code",
   "execution_count": 63,
   "metadata": {
    "execution": {
     "iopub.execute_input": "2021-03-28T18:42:28.047252Z",
     "iopub.status.busy": "2021-03-28T18:42:28.046135Z",
     "iopub.status.idle": "2021-03-28T18:42:30.477272Z",
     "shell.execute_reply": "2021-03-28T18:42:30.477930Z"
    },
    "papermill": {
     "duration": 2.501232,
     "end_time": "2021-03-28T18:42:30.478132",
     "exception": false,
     "start_time": "2021-03-28T18:42:27.976900",
     "status": "completed"
    },
    "tags": []
   },
   "outputs": [
    {
     "data": {
      "text/plain": [
       "array([0.91      , 0.90995261, 0.88349515, 0.9009901 , 0.89855072])"
      ]
     },
     "execution_count": 63,
     "metadata": {},
     "output_type": "execute_result"
    }
   ],
   "source": [
    "cross_val_score(pipe, X_val, y_val, cv=5, scoring='f1')"
   ]
  },
  {
   "cell_type": "code",
   "execution_count": 64,
   "metadata": {
    "execution": {
     "iopub.execute_input": "2021-03-28T18:42:30.617690Z",
     "iopub.status.busy": "2021-03-28T18:42:30.616759Z",
     "iopub.status.idle": "2021-03-28T18:42:30.833090Z",
     "shell.execute_reply": "2021-03-28T18:42:30.833773Z"
    },
    "papermill": {
     "duration": 0.292033,
     "end_time": "2021-03-28T18:42:30.833973",
     "exception": false,
     "start_time": "2021-03-28T18:42:30.541940",
     "status": "completed"
    },
    "tags": []
   },
   "outputs": [
    {
     "data": {
      "image/png": "[encoded data removed]",
      "text/plain": [
       "<Figure size 432x288 with 2 Axes>"
      ]
     },
     "metadata": {
      "needs_background": "light"
     },
     "output_type": "display_data"
    }
   ],
   "source": [
    "disp = plot_confusion_matrix(pipe, X_val, y_val,\n",
    "                             cmap=plt.cm.Blues,\n",
    "                             normalize=None)"
   ]
  },
  {
   "cell_type": "code",
   "execution_count": 65,
   "metadata": {
    "execution": {
     "iopub.execute_input": "2021-03-28T18:42:30.973612Z",
     "iopub.status.busy": "2021-03-28T18:42:30.972128Z",
     "iopub.status.idle": "2021-03-28T18:42:31.022547Z",
     "shell.execute_reply": "2021-03-28T18:42:31.023640Z"
    },
    "papermill": {
     "duration": 0.12619,
     "end_time": "2021-03-28T18:42:31.023963",
     "exception": false,
     "start_time": "2021-03-28T18:42:30.897773",
     "status": "completed"
    },
    "tags": []
   },
   "outputs": [
    {
     "name": "stdout",
     "output_type": "stream",
     "text": [
      "Your submission was successfully saved!\n",
      "      studentId  isTopPerformer\n",
      "2981      14544           False\n",
      "2982      15341            True\n",
      "2983      15494           False\n",
      "2984      13400           False\n",
      "2985      13460           False\n",
      "2986      13278           False\n",
      "2987      14984           False\n",
      "2988      14557           False\n",
      "2989      15249           False\n",
      "2990      15012           False\n"
     ]
    }
   ],
   "source": [
    "submission = pd.DataFrame({\n",
    "        \"studentId\": test_data.studentId,\n",
    "        \"isTopPerformer\": pipe.predict(drop_test)\n",
    "    })\n",
    "submission.to_csv('submission.csv', index=False)\n",
    "print(\"Your submission was successfully saved!\")\n",
    "print(submission.tail(10))"
   ]
  },
  {
   "cell_type": "code",
   "execution_count": null,
   "metadata": {
    "papermill": {
     "duration": 0.06619,
     "end_time": "2021-03-28T18:42:31.160869",
     "exception": false,
     "start_time": "2021-03-28T18:42:31.094679",
     "status": "completed"
    },
    "tags": []
   },
   "outputs": [],
   "source": []
  }
 ],
 "metadata": {
  "kernelspec": {
   "display_name": "Python 3",
   "language": "python",
   "name": "python3"
  },
  "language_info": {
   "codemirror_mode": {
    "name": "ipython",
    "version": 3
   },
   "file_extension": ".py",
   "mimetype": "text/x-python",
   "name": "python",
   "nbconvert_exporter": "python",
   "pygments_lexer": "ipython3",
   "version": "3.7.9"
  },
  "papermill": {
   "default_parameters": {},
   "duration": 344.865725,
   "end_time": "2021-03-28T18:42:32.147408",
   "environment_variables": {},
   "exception": null,
   "input_path": "__notebook__.ipynb",
   "output_path": "__notebook__.ipynb",
   "parameters": {},
   "start_time": "2021-03-28T18:36:47.281683",
   "version": "2.2.2"
  }
 },
 "nbformat": 4,
 "nbformat_minor": 4
}
